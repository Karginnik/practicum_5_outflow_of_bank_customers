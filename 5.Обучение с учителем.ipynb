{
 "cells": [
  {
   "cell_type": "markdown",
   "metadata": {},
   "source": [
    "# Отток клиентов"
   ]
  },
  {
   "cell_type": "markdown",
   "metadata": {},
   "source": [
    "Из «Бета-Банка» стали уходить клиенты. Каждый месяц. Немного, но заметно. Банковские маркетологи посчитали: сохранять текущих клиентов дешевле, чем привлекать новых.\n",
    "\n",
    "Нужно спрогнозировать, уйдёт клиент из банка в ближайшее время или нет. Вам предоставлены исторические данные о поведении клиентов и расторжении договоров с банком. "
   ]
  },
  {
   "cell_type": "markdown",
   "metadata": {},
   "source": [
    "# Описание данных"
   ]
  },
  {
   "cell_type": "markdown",
   "metadata": {},
   "source": [
    "**Признаки**\n",
    "* RowNumber — индекс строки в данных\n",
    "* CustomerId — уникальный идентификатор клиента\n",
    "* Surname — фамилия\n",
    "* CreditScore — кредитный рейтинг\n",
    "* Geography — страна проживания\n",
    "* Gender — пол\n",
    "* Age — возраст\n",
    "* Tenure — сколько лет человек является клиентом банка\n",
    "* Balance — баланс на счёте\n",
    "* NumOfProducts — количество продуктов банка, используемых клиентом\n",
    "* HasCrCard — наличие кредитной карты\n",
    "* IsActiveMember — активность клиента\n",
    "* EstimatedSalary — предполагаемая зарплата\n",
    "\n",
    "**Целевой признак**\n",
    "* Exited — факт ухода клиента"
   ]
  },
  {
   "cell_type": "markdown",
   "metadata": {},
   "source": [
    "## Подготовка данных"
   ]
  },
  {
   "cell_type": "markdown",
   "metadata": {},
   "source": [
    "Импортируем необходимые библиотеки"
   ]
  },
  {
   "cell_type": "code",
   "execution_count": 1,
   "metadata": {},
   "outputs": [],
   "source": [
    "import pandas as pd\n",
    "import numpy as np\n",
    "from sklearn.tree import DecisionTreeClassifier\n",
    "from sklearn.ensemble import RandomForestClassifier\n",
    "from sklearn.linear_model import LogisticRegression\n",
    "from sklearn.model_selection import train_test_split\n",
    "from sklearn.preprocessing import StandardScaler\n",
    "from sklearn.metrics import f1_score, roc_auc_score\n",
    "from sklearn.utils import shuffle"
   ]
  },
  {
   "cell_type": "markdown",
   "metadata": {},
   "source": [
    "Загрузим датафрейм и выведем его первые 5 строк"
   ]
  },
  {
   "cell_type": "code",
   "execution_count": 2,
   "metadata": {},
   "outputs": [
    {
     "data": {
      "text/html": [
       "<div>\n",
       "<style scoped>\n",
       "    .dataframe tbody tr th:only-of-type {\n",
       "        vertical-align: middle;\n",
       "    }\n",
       "\n",
       "    .dataframe tbody tr th {\n",
       "        vertical-align: top;\n",
       "    }\n",
       "\n",
       "    .dataframe thead th {\n",
       "        text-align: right;\n",
       "    }\n",
       "</style>\n",
       "<table border=\"1\" class=\"dataframe\">\n",
       "  <thead>\n",
       "    <tr style=\"text-align: right;\">\n",
       "      <th></th>\n",
       "      <th>RowNumber</th>\n",
       "      <th>CustomerId</th>\n",
       "      <th>Surname</th>\n",
       "      <th>CreditScore</th>\n",
       "      <th>Geography</th>\n",
       "      <th>Gender</th>\n",
       "      <th>Age</th>\n",
       "      <th>Tenure</th>\n",
       "      <th>Balance</th>\n",
       "      <th>NumOfProducts</th>\n",
       "      <th>HasCrCard</th>\n",
       "      <th>IsActiveMember</th>\n",
       "      <th>EstimatedSalary</th>\n",
       "      <th>Exited</th>\n",
       "    </tr>\n",
       "  </thead>\n",
       "  <tbody>\n",
       "    <tr>\n",
       "      <th>0</th>\n",
       "      <td>1</td>\n",
       "      <td>15634602</td>\n",
       "      <td>Hargrave</td>\n",
       "      <td>619</td>\n",
       "      <td>France</td>\n",
       "      <td>Female</td>\n",
       "      <td>42</td>\n",
       "      <td>2.0</td>\n",
       "      <td>0.00</td>\n",
       "      <td>1</td>\n",
       "      <td>1</td>\n",
       "      <td>1</td>\n",
       "      <td>101348.88</td>\n",
       "      <td>1</td>\n",
       "    </tr>\n",
       "    <tr>\n",
       "      <th>1</th>\n",
       "      <td>2</td>\n",
       "      <td>15647311</td>\n",
       "      <td>Hill</td>\n",
       "      <td>608</td>\n",
       "      <td>Spain</td>\n",
       "      <td>Female</td>\n",
       "      <td>41</td>\n",
       "      <td>1.0</td>\n",
       "      <td>83807.86</td>\n",
       "      <td>1</td>\n",
       "      <td>0</td>\n",
       "      <td>1</td>\n",
       "      <td>112542.58</td>\n",
       "      <td>0</td>\n",
       "    </tr>\n",
       "    <tr>\n",
       "      <th>2</th>\n",
       "      <td>3</td>\n",
       "      <td>15619304</td>\n",
       "      <td>Onio</td>\n",
       "      <td>502</td>\n",
       "      <td>France</td>\n",
       "      <td>Female</td>\n",
       "      <td>42</td>\n",
       "      <td>8.0</td>\n",
       "      <td>159660.80</td>\n",
       "      <td>3</td>\n",
       "      <td>1</td>\n",
       "      <td>0</td>\n",
       "      <td>113931.57</td>\n",
       "      <td>1</td>\n",
       "    </tr>\n",
       "    <tr>\n",
       "      <th>3</th>\n",
       "      <td>4</td>\n",
       "      <td>15701354</td>\n",
       "      <td>Boni</td>\n",
       "      <td>699</td>\n",
       "      <td>France</td>\n",
       "      <td>Female</td>\n",
       "      <td>39</td>\n",
       "      <td>1.0</td>\n",
       "      <td>0.00</td>\n",
       "      <td>2</td>\n",
       "      <td>0</td>\n",
       "      <td>0</td>\n",
       "      <td>93826.63</td>\n",
       "      <td>0</td>\n",
       "    </tr>\n",
       "    <tr>\n",
       "      <th>4</th>\n",
       "      <td>5</td>\n",
       "      <td>15737888</td>\n",
       "      <td>Mitchell</td>\n",
       "      <td>850</td>\n",
       "      <td>Spain</td>\n",
       "      <td>Female</td>\n",
       "      <td>43</td>\n",
       "      <td>2.0</td>\n",
       "      <td>125510.82</td>\n",
       "      <td>1</td>\n",
       "      <td>1</td>\n",
       "      <td>1</td>\n",
       "      <td>79084.10</td>\n",
       "      <td>0</td>\n",
       "    </tr>\n",
       "  </tbody>\n",
       "</table>\n",
       "</div>"
      ],
      "text/plain": [
       "   RowNumber  CustomerId   Surname  CreditScore Geography  Gender  Age  \\\n",
       "0          1    15634602  Hargrave          619    France  Female   42   \n",
       "1          2    15647311      Hill          608     Spain  Female   41   \n",
       "2          3    15619304      Onio          502    France  Female   42   \n",
       "3          4    15701354      Boni          699    France  Female   39   \n",
       "4          5    15737888  Mitchell          850     Spain  Female   43   \n",
       "\n",
       "   Tenure    Balance  NumOfProducts  HasCrCard  IsActiveMember  \\\n",
       "0     2.0       0.00              1          1               1   \n",
       "1     1.0   83807.86              1          0               1   \n",
       "2     8.0  159660.80              3          1               0   \n",
       "3     1.0       0.00              2          0               0   \n",
       "4     2.0  125510.82              1          1               1   \n",
       "\n",
       "   EstimatedSalary  Exited  \n",
       "0        101348.88       1  \n",
       "1        112542.58       0  \n",
       "2        113931.57       1  \n",
       "3         93826.63       0  \n",
       "4         79084.10       0  "
      ]
     },
     "execution_count": 2,
     "metadata": {},
     "output_type": "execute_result"
    }
   ],
   "source": [
    "try:   \n",
    "    data = pd.read_csv('/datasets/Churn.csv')\n",
    "except:\n",
    "    data = pd.read_csv('https://code.s3.yandex.net/datasets/Churn.csv')\n",
    "    \n",
    "data.head()"
   ]
  },
  {
   "cell_type": "markdown",
   "metadata": {},
   "source": [
    "Узнаем общую информацию про полученный датафрейм"
   ]
  },
  {
   "cell_type": "code",
   "execution_count": 3,
   "metadata": {},
   "outputs": [
    {
     "name": "stdout",
     "output_type": "stream",
     "text": [
      "<class 'pandas.core.frame.DataFrame'>\n",
      "RangeIndex: 10000 entries, 0 to 9999\n",
      "Data columns (total 14 columns):\n",
      " #   Column           Non-Null Count  Dtype  \n",
      "---  ------           --------------  -----  \n",
      " 0   RowNumber        10000 non-null  int64  \n",
      " 1   CustomerId       10000 non-null  int64  \n",
      " 2   Surname          10000 non-null  object \n",
      " 3   CreditScore      10000 non-null  int64  \n",
      " 4   Geography        10000 non-null  object \n",
      " 5   Gender           10000 non-null  object \n",
      " 6   Age              10000 non-null  int64  \n",
      " 7   Tenure           9091 non-null   float64\n",
      " 8   Balance          10000 non-null  float64\n",
      " 9   NumOfProducts    10000 non-null  int64  \n",
      " 10  HasCrCard        10000 non-null  int64  \n",
      " 11  IsActiveMember   10000 non-null  int64  \n",
      " 12  EstimatedSalary  10000 non-null  float64\n",
      " 13  Exited           10000 non-null  int64  \n",
      "dtypes: float64(3), int64(8), object(3)\n",
      "memory usage: 1.1+ MB\n"
     ]
    }
   ],
   "source": [
    "data.info()"
   ]
  },
  {
   "cell_type": "code",
   "execution_count": 4,
   "metadata": {},
   "outputs": [
    {
     "data": {
      "text/plain": [
       "909"
      ]
     },
     "execution_count": 4,
     "metadata": {},
     "output_type": "execute_result"
    }
   ],
   "source": [
    "data['Tenure'].isnull().sum()"
   ]
  },
  {
   "cell_type": "markdown",
   "metadata": {},
   "source": [
    "В столбце Tenure оказалось 909 пропущенных значений. У этой проблемы есть 2 решения: Заполнить пропуски своими значениями(допустим, предположить что все клиенты с “пропусками” это новое клиенты и заполнить все нулями) или просто удалить все пропуски. По моему мнению искусственное заполнение данных может повлиять на итоговый результат обучения, поэтому удалим все пропуски из нашего датафрейма, так как количество удаленных данных будет меньше 10% от общего количества всех данных, что можно считать позволительным.  "
   ]
  },
  {
   "cell_type": "code",
   "execution_count": 5,
   "metadata": {},
   "outputs": [
    {
     "name": "stdout",
     "output_type": "stream",
     "text": [
      "Удалено 9.09% данных\n"
     ]
    }
   ],
   "source": [
    "old_data = data.shape[0]\n",
    "data = data.dropna()\n",
    "procent_del = (1 - data.shape[0] / old_data) * 100\n",
    "print(f'Удалено {procent_del:.2f}% данных')"
   ]
  },
  {
   "cell_type": "markdown",
   "metadata": {},
   "source": [
    "Узнаем общую информацию про полученный датафрейм после преобразования"
   ]
  },
  {
   "cell_type": "code",
   "execution_count": 6,
   "metadata": {
    "scrolled": true
   },
   "outputs": [
    {
     "name": "stdout",
     "output_type": "stream",
     "text": [
      "<class 'pandas.core.frame.DataFrame'>\n",
      "Int64Index: 9091 entries, 0 to 9998\n",
      "Data columns (total 14 columns):\n",
      " #   Column           Non-Null Count  Dtype  \n",
      "---  ------           --------------  -----  \n",
      " 0   RowNumber        9091 non-null   int64  \n",
      " 1   CustomerId       9091 non-null   int64  \n",
      " 2   Surname          9091 non-null   object \n",
      " 3   CreditScore      9091 non-null   int64  \n",
      " 4   Geography        9091 non-null   object \n",
      " 5   Gender           9091 non-null   object \n",
      " 6   Age              9091 non-null   int64  \n",
      " 7   Tenure           9091 non-null   float64\n",
      " 8   Balance          9091 non-null   float64\n",
      " 9   NumOfProducts    9091 non-null   int64  \n",
      " 10  HasCrCard        9091 non-null   int64  \n",
      " 11  IsActiveMember   9091 non-null   int64  \n",
      " 12  EstimatedSalary  9091 non-null   float64\n",
      " 13  Exited           9091 non-null   int64  \n",
      "dtypes: float64(3), int64(8), object(3)\n",
      "memory usage: 1.0+ MB\n"
     ]
    }
   ],
   "source": [
    "data.info()"
   ]
  },
  {
   "cell_type": "markdown",
   "metadata": {},
   "source": [
    "Для обучения модели информация из колонок RowNumber, CustomerId, Surname не несет никакой пользы, поэтому удалим их из нашего датафрейма "
   ]
  },
  {
   "cell_type": "code",
   "execution_count": 7,
   "metadata": {},
   "outputs": [
    {
     "data": {
      "text/html": [
       "<div>\n",
       "<style scoped>\n",
       "    .dataframe tbody tr th:only-of-type {\n",
       "        vertical-align: middle;\n",
       "    }\n",
       "\n",
       "    .dataframe tbody tr th {\n",
       "        vertical-align: top;\n",
       "    }\n",
       "\n",
       "    .dataframe thead th {\n",
       "        text-align: right;\n",
       "    }\n",
       "</style>\n",
       "<table border=\"1\" class=\"dataframe\">\n",
       "  <thead>\n",
       "    <tr style=\"text-align: right;\">\n",
       "      <th></th>\n",
       "      <th>CreditScore</th>\n",
       "      <th>Geography</th>\n",
       "      <th>Gender</th>\n",
       "      <th>Age</th>\n",
       "      <th>Tenure</th>\n",
       "      <th>Balance</th>\n",
       "      <th>NumOfProducts</th>\n",
       "      <th>HasCrCard</th>\n",
       "      <th>IsActiveMember</th>\n",
       "      <th>EstimatedSalary</th>\n",
       "      <th>Exited</th>\n",
       "    </tr>\n",
       "  </thead>\n",
       "  <tbody>\n",
       "    <tr>\n",
       "      <th>0</th>\n",
       "      <td>619</td>\n",
       "      <td>France</td>\n",
       "      <td>Female</td>\n",
       "      <td>42</td>\n",
       "      <td>2.0</td>\n",
       "      <td>0.00</td>\n",
       "      <td>1</td>\n",
       "      <td>1</td>\n",
       "      <td>1</td>\n",
       "      <td>101348.88</td>\n",
       "      <td>1</td>\n",
       "    </tr>\n",
       "    <tr>\n",
       "      <th>1</th>\n",
       "      <td>608</td>\n",
       "      <td>Spain</td>\n",
       "      <td>Female</td>\n",
       "      <td>41</td>\n",
       "      <td>1.0</td>\n",
       "      <td>83807.86</td>\n",
       "      <td>1</td>\n",
       "      <td>0</td>\n",
       "      <td>1</td>\n",
       "      <td>112542.58</td>\n",
       "      <td>0</td>\n",
       "    </tr>\n",
       "    <tr>\n",
       "      <th>2</th>\n",
       "      <td>502</td>\n",
       "      <td>France</td>\n",
       "      <td>Female</td>\n",
       "      <td>42</td>\n",
       "      <td>8.0</td>\n",
       "      <td>159660.80</td>\n",
       "      <td>3</td>\n",
       "      <td>1</td>\n",
       "      <td>0</td>\n",
       "      <td>113931.57</td>\n",
       "      <td>1</td>\n",
       "    </tr>\n",
       "    <tr>\n",
       "      <th>3</th>\n",
       "      <td>699</td>\n",
       "      <td>France</td>\n",
       "      <td>Female</td>\n",
       "      <td>39</td>\n",
       "      <td>1.0</td>\n",
       "      <td>0.00</td>\n",
       "      <td>2</td>\n",
       "      <td>0</td>\n",
       "      <td>0</td>\n",
       "      <td>93826.63</td>\n",
       "      <td>0</td>\n",
       "    </tr>\n",
       "    <tr>\n",
       "      <th>4</th>\n",
       "      <td>850</td>\n",
       "      <td>Spain</td>\n",
       "      <td>Female</td>\n",
       "      <td>43</td>\n",
       "      <td>2.0</td>\n",
       "      <td>125510.82</td>\n",
       "      <td>1</td>\n",
       "      <td>1</td>\n",
       "      <td>1</td>\n",
       "      <td>79084.10</td>\n",
       "      <td>0</td>\n",
       "    </tr>\n",
       "  </tbody>\n",
       "</table>\n",
       "</div>"
      ],
      "text/plain": [
       "   CreditScore Geography  Gender  Age  Tenure    Balance  NumOfProducts  \\\n",
       "0          619    France  Female   42     2.0       0.00              1   \n",
       "1          608     Spain  Female   41     1.0   83807.86              1   \n",
       "2          502    France  Female   42     8.0  159660.80              3   \n",
       "3          699    France  Female   39     1.0       0.00              2   \n",
       "4          850     Spain  Female   43     2.0  125510.82              1   \n",
       "\n",
       "   HasCrCard  IsActiveMember  EstimatedSalary  Exited  \n",
       "0          1               1        101348.88       1  \n",
       "1          0               1        112542.58       0  \n",
       "2          1               0        113931.57       1  \n",
       "3          0               0         93826.63       0  \n",
       "4          1               1         79084.10       0  "
      ]
     },
     "execution_count": 7,
     "metadata": {},
     "output_type": "execute_result"
    }
   ],
   "source": [
    "del_columns = ['RowNumber', 'CustomerId','Surname']\n",
    "data = data.drop(del_columns, axis=1)\n",
    "data.head()"
   ]
  },
  {
   "cell_type": "markdown",
   "metadata": {},
   "source": [
    "Разделим исходные данные для обучения"
   ]
  },
  {
   "cell_type": "code",
   "execution_count": 8,
   "metadata": {},
   "outputs": [],
   "source": [
    "features = data.drop('Exited', axis=1)\n",
    "target = data['Exited']"
   ]
  },
  {
   "cell_type": "markdown",
   "metadata": {
    "scrolled": true
   },
   "source": [
    "Преобразуем категориальные признаки методом OHE"
   ]
  },
  {
   "cell_type": "code",
   "execution_count": 9,
   "metadata": {},
   "outputs": [
    {
     "data": {
      "text/html": [
       "<div>\n",
       "<style scoped>\n",
       "    .dataframe tbody tr th:only-of-type {\n",
       "        vertical-align: middle;\n",
       "    }\n",
       "\n",
       "    .dataframe tbody tr th {\n",
       "        vertical-align: top;\n",
       "    }\n",
       "\n",
       "    .dataframe thead th {\n",
       "        text-align: right;\n",
       "    }\n",
       "</style>\n",
       "<table border=\"1\" class=\"dataframe\">\n",
       "  <thead>\n",
       "    <tr style=\"text-align: right;\">\n",
       "      <th></th>\n",
       "      <th>CreditScore</th>\n",
       "      <th>Age</th>\n",
       "      <th>Tenure</th>\n",
       "      <th>Balance</th>\n",
       "      <th>NumOfProducts</th>\n",
       "      <th>HasCrCard</th>\n",
       "      <th>IsActiveMember</th>\n",
       "      <th>EstimatedSalary</th>\n",
       "      <th>Geography_Germany</th>\n",
       "      <th>Geography_Spain</th>\n",
       "      <th>Gender_Male</th>\n",
       "    </tr>\n",
       "  </thead>\n",
       "  <tbody>\n",
       "    <tr>\n",
       "      <th>0</th>\n",
       "      <td>619</td>\n",
       "      <td>42</td>\n",
       "      <td>2.0</td>\n",
       "      <td>0.00</td>\n",
       "      <td>1</td>\n",
       "      <td>1</td>\n",
       "      <td>1</td>\n",
       "      <td>101348.88</td>\n",
       "      <td>0</td>\n",
       "      <td>0</td>\n",
       "      <td>0</td>\n",
       "    </tr>\n",
       "    <tr>\n",
       "      <th>1</th>\n",
       "      <td>608</td>\n",
       "      <td>41</td>\n",
       "      <td>1.0</td>\n",
       "      <td>83807.86</td>\n",
       "      <td>1</td>\n",
       "      <td>0</td>\n",
       "      <td>1</td>\n",
       "      <td>112542.58</td>\n",
       "      <td>0</td>\n",
       "      <td>1</td>\n",
       "      <td>0</td>\n",
       "    </tr>\n",
       "    <tr>\n",
       "      <th>2</th>\n",
       "      <td>502</td>\n",
       "      <td>42</td>\n",
       "      <td>8.0</td>\n",
       "      <td>159660.80</td>\n",
       "      <td>3</td>\n",
       "      <td>1</td>\n",
       "      <td>0</td>\n",
       "      <td>113931.57</td>\n",
       "      <td>0</td>\n",
       "      <td>0</td>\n",
       "      <td>0</td>\n",
       "    </tr>\n",
       "    <tr>\n",
       "      <th>3</th>\n",
       "      <td>699</td>\n",
       "      <td>39</td>\n",
       "      <td>1.0</td>\n",
       "      <td>0.00</td>\n",
       "      <td>2</td>\n",
       "      <td>0</td>\n",
       "      <td>0</td>\n",
       "      <td>93826.63</td>\n",
       "      <td>0</td>\n",
       "      <td>0</td>\n",
       "      <td>0</td>\n",
       "    </tr>\n",
       "    <tr>\n",
       "      <th>4</th>\n",
       "      <td>850</td>\n",
       "      <td>43</td>\n",
       "      <td>2.0</td>\n",
       "      <td>125510.82</td>\n",
       "      <td>1</td>\n",
       "      <td>1</td>\n",
       "      <td>1</td>\n",
       "      <td>79084.10</td>\n",
       "      <td>0</td>\n",
       "      <td>1</td>\n",
       "      <td>0</td>\n",
       "    </tr>\n",
       "  </tbody>\n",
       "</table>\n",
       "</div>"
      ],
      "text/plain": [
       "   CreditScore  Age  Tenure    Balance  NumOfProducts  HasCrCard  \\\n",
       "0          619   42     2.0       0.00              1          1   \n",
       "1          608   41     1.0   83807.86              1          0   \n",
       "2          502   42     8.0  159660.80              3          1   \n",
       "3          699   39     1.0       0.00              2          0   \n",
       "4          850   43     2.0  125510.82              1          1   \n",
       "\n",
       "   IsActiveMember  EstimatedSalary  Geography_Germany  Geography_Spain  \\\n",
       "0               1        101348.88                  0                0   \n",
       "1               1        112542.58                  0                1   \n",
       "2               0        113931.57                  0                0   \n",
       "3               0         93826.63                  0                0   \n",
       "4               1         79084.10                  0                1   \n",
       "\n",
       "   Gender_Male  \n",
       "0            0  \n",
       "1            0  \n",
       "2            0  \n",
       "3            0  \n",
       "4            0  "
      ]
     },
     "execution_count": 9,
     "metadata": {},
     "output_type": "execute_result"
    }
   ],
   "source": [
    "features = pd.get_dummies(features, drop_first=True)\n",
    "features.head()"
   ]
  },
  {
   "cell_type": "markdown",
   "metadata": {},
   "source": [
    "Разделим исходные данные на обучающую, валидационную и тестовую выборки"
   ]
  },
  {
   "cell_type": "code",
   "execution_count": 10,
   "metadata": {},
   "outputs": [],
   "source": [
    "features_train, features_valid, target_train, target_valid = train_test_split(\n",
    "    features, target, test_size=0.2, random_state=12345)\n",
    "features_train, features_test, target_train, target_test = train_test_split(\n",
    "    features_train, target_train, test_size=0.25, random_state=12345)"
   ]
  },
  {
   "cell_type": "markdown",
   "metadata": {},
   "source": [
    "Исходные данные разделены на 60%, 20% и 20%"
   ]
  },
  {
   "cell_type": "code",
   "execution_count": 11,
   "metadata": {
    "scrolled": false
   },
   "outputs": [
    {
     "name": "stdout",
     "output_type": "stream",
     "text": [
      "Обучающуя выборка: (5454, 11) (5454,)\n",
      "Валидационнуя выборка: (1819, 11) (1819,)\n",
      "Тестовая выборка: (1818, 11) (1818,)\n"
     ]
    }
   ],
   "source": [
    "print('Обучающуя выборка:', features_train.shape, target_train.shape)\n",
    "print('Валидационнуя выборка:', features_valid.shape, target_valid.shape)\n",
    "print('Тестовая выборка:', features_test.shape, target_test.shape)"
   ]
  },
  {
   "cell_type": "markdown",
   "metadata": {},
   "source": [
    "Стандартизируем количественные признаки"
   ]
  },
  {
   "cell_type": "code",
   "execution_count": 12,
   "metadata": {
    "scrolled": true
   },
   "outputs": [],
   "source": [
    "pd.options.mode.chained_assignment = None\n",
    "\n",
    "standart_columns = ['CreditScore', 'Age', 'Tenure', 'Balance', 'NumOfProducts', 'EstimatedSalary']\n",
    "\n",
    "scaler = StandardScaler()\n",
    "scaler.fit(features_train[standart_columns])\n",
    "features_train[standart_columns] = scaler.transform(features_train[standart_columns])\n",
    "features_valid[standart_columns] = scaler.transform(features_valid[standart_columns])\n",
    "features_test[standart_columns] = scaler.transform(features_test[standart_columns])"
   ]
  },
  {
   "cell_type": "markdown",
   "metadata": {},
   "source": [
    "Подготовка данных на этом закончена, можно приступать к поиску наилучшей модели   "
   ]
  },
  {
   "cell_type": "markdown",
   "metadata": {},
   "source": [
    "## Исследование задачи"
   ]
  },
  {
   "cell_type": "markdown",
   "metadata": {},
   "source": [
    "Исследуем баланс классов    "
   ]
  },
  {
   "cell_type": "code",
   "execution_count": 13,
   "metadata": {
    "scrolled": true
   },
   "outputs": [
    {
     "name": "stdout",
     "output_type": "stream",
     "text": [
      "Количество значений равное 0 - 7237, Количество значений равное 1 - 1854\n"
     ]
    }
   ],
   "source": [
    "print(f'Количество значений равное 0 - {target[target == 0].count()}, \\\n",
    "Количество значений равное 1 - {target[target == 1].count()}')"
   ]
  },
  {
   "cell_type": "markdown",
   "metadata": {},
   "source": [
    "Наблюдается дисбаланс классов, найдем наилучшую модель без учета дисбаланса"
   ]
  },
  {
   "cell_type": "markdown",
   "metadata": {},
   "source": [
    "Обучим и найдем F1-меру для логистической регрессии "
   ]
  },
  {
   "cell_type": "code",
   "execution_count": 14,
   "metadata": {},
   "outputs": [
    {
     "name": "stdout",
     "output_type": "stream",
     "text": [
      "Параметр F1: 0.32719836400818 Параметр max_iter: 100 Параметр C: 0.5\n",
      "CPU times: user 45.5 s, sys: 1min 51s, total: 2min 36s\n",
      "Wall time: 2min 37s\n"
     ]
    }
   ],
   "source": [
    "%%time\n",
    "\n",
    "best_f1_regression = 0\n",
    "for c_param in np.arange(0.5, 1.5, 0.05):\n",
    "    for iter in range(100, 3001, 100):\n",
    "        model_regression = LogisticRegression(random_state=12345, solver='lbfgs', max_iter=iter, C=c_param) \n",
    "        model_regression.fit(features_train, target_train)\n",
    "        predictions_valid = model_regression.predict(features_valid)\n",
    "        f1_regression = f1_score(target_valid, predictions_valid)\n",
    "        if f1_regression > best_f1_regression:\n",
    "            best_model_regression = model_regression\n",
    "            best_f1_regression = f1_regression\n",
    "            best_max_iter = iter\n",
    "            best_c_param = c_param\n",
    "print('Параметр F1:', best_f1_regression, 'Параметр max_iter:', best_max_iter, 'Параметр C:', best_c_param)"
   ]
  },
  {
   "cell_type": "code",
   "execution_count": 15,
   "metadata": {
    "scrolled": true
   },
   "outputs": [
    {
     "name": "stdout",
     "output_type": "stream",
     "text": [
      "0.7881861508270256\n"
     ]
    }
   ],
   "source": [
    "probabilities_valid = best_model_regression.predict_proba(features_valid)\n",
    "probabilities_one_valid = probabilities_valid[:, 1]\n",
    "auc_roc = roc_auc_score(target_valid, probabilities_one_valid)\n",
    "print(auc_roc)"
   ]
  },
  {
   "cell_type": "markdown",
   "metadata": {},
   "source": [
    "Обучим и найдем F1-меру для дерева решений "
   ]
  },
  {
   "cell_type": "code",
   "execution_count": 16,
   "metadata": {},
   "outputs": [
    {
     "name": "stdout",
     "output_type": "stream",
     "text": [
      "Лучший параметр F1 0.5942684766214177, значение глубины дерева 9\n",
      "CPU times: user 146 ms, sys: 0 ns, total: 146 ms\n",
      "Wall time: 146 ms\n"
     ]
    }
   ],
   "source": [
    "%%time\n",
    "\n",
    "best_model_tree = None\n",
    "best_f1_tree = 0\n",
    "best_depth_tree = 0\n",
    "for depth in range(1, 11):\n",
    "    model = DecisionTreeClassifier(random_state=12345, max_depth=depth) \n",
    "    model.fit(features_train, target_train) \n",
    "    predictions_valid = model.predict(features_valid)\n",
    "    f1_tree = f1_score(target_valid, predictions_valid)\n",
    "    if f1_tree > best_f1_tree:\n",
    "        best_model_tree = model\n",
    "        best_f1_tree = f1_tree\n",
    "        best_depth_tree = depth\n",
    "\n",
    "print(f'Лучший параметр F1 {best_f1_tree}, значение глубины дерева {best_depth_tree}')"
   ]
  },
  {
   "cell_type": "code",
   "execution_count": 17,
   "metadata": {},
   "outputs": [
    {
     "name": "stdout",
     "output_type": "stream",
     "text": [
      "0.8037790860667227\n"
     ]
    }
   ],
   "source": [
    "probabilities_valid = best_model_tree.predict_proba(features_valid)\n",
    "probabilities_one_valid = probabilities_valid[:, 1]\n",
    "auc_roc = roc_auc_score(target_valid, probabilities_one_valid)\n",
    "print(auc_roc)"
   ]
  },
  {
   "cell_type": "markdown",
   "metadata": {},
   "source": [
    "Обучим и найдем F1-меру для случайного леса"
   ]
  },
  {
   "cell_type": "code",
   "execution_count": 18,
   "metadata": {
    "scrolled": true
   },
   "outputs": [
    {
     "name": "stdout",
     "output_type": "stream",
     "text": [
      "Лучший параметр F1 0.5664335664335663, значение числа деревьев 38, значение глубины дерева 12\n",
      "CPU times: user 47 s, sys: 130 ms, total: 47.2 s\n",
      "Wall time: 47.2 s\n"
     ]
    }
   ],
   "source": [
    "%%time\n",
    "\n",
    "best_model_forest = None\n",
    "best_f1_forest = 0\n",
    "best_depth_forest = 0\n",
    "best_est = 0\n",
    "for est in range(1, 41):\n",
    "    for depth in range(1, 14):\n",
    "        model = RandomForestClassifier(random_state=12345, n_estimators=est, max_depth=depth) \n",
    "        model.fit(features_train, target_train) \n",
    "        predictions_valid = model.predict(features_valid)\n",
    "        f1_forest = f1_score(target_valid, predictions_valid)\n",
    "        if f1_forest > best_f1_forest:\n",
    "            best_model_forest = model\n",
    "            best_f1_forest = f1_forest\n",
    "            best_depth_forest = depth\n",
    "            best_est = est\n",
    "\n",
    "print(f'Лучший параметр F1 {best_f1_forest}, \\\n",
    "значение числа деревьев {best_est}, значение глубины дерева {best_depth_forest}')"
   ]
  },
  {
   "cell_type": "markdown",
   "metadata": {},
   "source": [
    "Изначально я брал я параметр est равным от 1 до 100 с шагом 1 и параметр depth от 1 до 20 с шагом 1. Чтобы время выполнение ячейки понизилось с 10 минут до 45 секунд я уменьшил параметры до наблюдаемых. Итоговый результат остался таким же.  "
   ]
  },
  {
   "cell_type": "code",
   "execution_count": 19,
   "metadata": {},
   "outputs": [
    {
     "name": "stdout",
     "output_type": "stream",
     "text": [
      "0.8547986169516868\n"
     ]
    }
   ],
   "source": [
    "probabilities_valid = best_model_forest.predict_proba(features_valid)\n",
    "probabilities_one_valid = probabilities_valid[:, 1]\n",
    "auc_roc = roc_auc_score(target_valid, probabilities_one_valid)\n",
    "print(auc_roc)"
   ]
  },
  {
   "cell_type": "markdown",
   "metadata": {},
   "source": [
    "Лучший результат для метрики F1 = 0.5942684766214177 показал случайный лес с глубиной 9, а лучший результат для метрики AUC-ROC - 0.8547986169516868 показал случайный лес со значениями числа деревьев 38 и глубиной 12.  "
   ]
  },
  {
   "cell_type": "markdown",
   "metadata": {},
   "source": [
    "## Борьба с дисбалансом"
   ]
  },
  {
   "cell_type": "markdown",
   "metadata": {},
   "source": [
    "Для борьбы с дисбалансом необходимо выровнять количество значений равных 0 и 1. Существует много различных способов борьбы с дисбалансом, для исследования мы применим: Увеличение меньшей выборки и уменьшение большей выборки."
   ]
  },
  {
   "cell_type": "markdown",
   "metadata": {},
   "source": [
    "Для начала исследуем логистическую регрессию, уровняя вес классов в параметре class_weight"
   ]
  },
  {
   "cell_type": "code",
   "execution_count": 20,
   "metadata": {},
   "outputs": [
    {
     "name": "stdout",
     "output_type": "stream",
     "text": [
      "Параметр F1: 0.5092322643343051 Параметр max_iter: 100\n",
      "CPU times: user 3.33 s, sys: 8.99 s, total: 12.3 s\n",
      "Wall time: 12.3 s\n"
     ]
    }
   ],
   "source": [
    "%%time\n",
    "\n",
    "best_f1_regression = 0\n",
    "\n",
    "for iter in range(100, 3001, 100):\n",
    "    model_regression = LogisticRegression(random_state=12345, solver='lbfgs', max_iter=iter, class_weight='balanced') \n",
    "    model_regression.fit(features_train, target_train)\n",
    "    predictions_valid = model_regression.predict(features_valid)\n",
    "    f1_regression = f1_score(target_valid, predictions_valid)\n",
    "    if f1_regression > best_f1_regression:\n",
    "        best_model_regression = model_regression\n",
    "        best_f1_regression = f1_regression\n",
    "        best_max_iter = iter\n",
    "print('Параметр F1:', best_f1_regression, 'Параметр max_iter:', best_max_iter)"
   ]
  },
  {
   "cell_type": "code",
   "execution_count": 21,
   "metadata": {},
   "outputs": [
    {
     "name": "stdout",
     "output_type": "stream",
     "text": [
      "0.7880796187272218\n"
     ]
    }
   ],
   "source": [
    "probabilities_valid = model_regression.predict_proba(features_valid)\n",
    "probabilities_one_valid = probabilities_valid[:, 1]\n",
    "auc_roc = roc_auc_score(target_valid, probabilities_one_valid)\n",
    "print(auc_roc)"
   ]
  },
  {
   "cell_type": "markdown",
   "metadata": {},
   "source": [
    "Значение F1 сразу выросло с 0.32719836400818 до 0.5092322643343051!"
   ]
  },
  {
   "cell_type": "markdown",
   "metadata": {},
   "source": [
    "Найдем отношение класса со значением 0 к классу со значением 1 "
   ]
  },
  {
   "cell_type": "markdown",
   "metadata": {},
   "source": [
    "Исследуем дерево решений, уровняя вес классов в параметре class_weight"
   ]
  },
  {
   "cell_type": "code",
   "execution_count": 22,
   "metadata": {},
   "outputs": [
    {
     "name": "stdout",
     "output_type": "stream",
     "text": [
      "Лучший параметр F1 0.5741728922091781, значение глубины дерева 6\n",
      "CPU times: user 172 ms, sys: 0 ns, total: 172 ms\n",
      "Wall time: 172 ms\n"
     ]
    }
   ],
   "source": [
    "%%time\n",
    "\n",
    "best_model_tree = None\n",
    "best_f1_tree = 0\n",
    "best_depth_tree = 0\n",
    "for depth in range(1, 11):\n",
    "    model = DecisionTreeClassifier(random_state=12345, max_depth=depth, class_weight='balanced') \n",
    "    model.fit(features_train, target_train) \n",
    "    predictions_valid = model.predict(features_valid)\n",
    "    f1_tree = f1_score(target_valid, predictions_valid)\n",
    "    if f1_tree > best_f1_tree:\n",
    "        best_model_tree = model\n",
    "        best_f1_tree = f1_tree\n",
    "        best_depth_tree = depth\n",
    "\n",
    "print(f'Лучший параметр F1 {best_f1_tree}, значение глубины дерева {best_depth_tree}')"
   ]
  },
  {
   "cell_type": "code",
   "execution_count": 23,
   "metadata": {},
   "outputs": [
    {
     "name": "stdout",
     "output_type": "stream",
     "text": [
      "0.8272096065788244\n"
     ]
    }
   ],
   "source": [
    "probabilities_valid = best_model_tree.predict_proba(features_valid)\n",
    "probabilities_one_valid = probabilities_valid[:, 1]\n",
    "auc_roc = roc_auc_score(target_valid, probabilities_one_valid)\n",
    "print(auc_roc)"
   ]
  },
  {
   "cell_type": "markdown",
   "metadata": {},
   "source": [
    "Значение F1 выросло с 0.5664335664335663 до 0.5741728922091781"
   ]
  },
  {
   "cell_type": "markdown",
   "metadata": {},
   "source": [
    "Исследуем случайный лес, уровняя вес классов в параметре class_weight"
   ]
  },
  {
   "cell_type": "code",
   "execution_count": 24,
   "metadata": {
    "scrolled": true
   },
   "outputs": [
    {
     "name": "stdout",
     "output_type": "stream",
     "text": [
      "Лучший параметр F1 0.6191709844559586, значение числа деревьев 96, значение глубины дерева 9\n",
      "CPU times: user 3min 16s, sys: 894 ms, total: 3min 17s\n",
      "Wall time: 3min 17s\n"
     ]
    }
   ],
   "source": [
    "%%time\n",
    "\n",
    "best_model_forest = None\n",
    "best_f1_forest = 0\n",
    "best_depth_forest = 0\n",
    "best_est = 0\n",
    "for est in range(1, 101):\n",
    "    for depth in range(1, 11):\n",
    "        model = RandomForestClassifier(random_state=12345, n_estimators=est, max_depth=depth, class_weight='balanced') \n",
    "        model.fit(features_train, target_train) \n",
    "        predictions_valid = model.predict(features_valid)\n",
    "        f1_forest = f1_score(target_valid, predictions_valid)\n",
    "        if f1_forest > best_f1_forest:\n",
    "            best_model_forest = model\n",
    "            best_f1_forest = f1_forest\n",
    "            best_depth_forest = depth\n",
    "            best_est = est\n",
    "\n",
    "print(f'Лучший параметр F1 {best_f1_forest}, \\\n",
    "значение числа деревьев {best_est}, значение глубины дерева {best_depth_forest}')"
   ]
  },
  {
   "cell_type": "code",
   "execution_count": 25,
   "metadata": {},
   "outputs": [
    {
     "name": "stdout",
     "output_type": "stream",
     "text": [
      "0.8576992804410803\n"
     ]
    }
   ],
   "source": [
    "probabilities_valid = best_model_forest.predict_proba(features_valid)\n",
    "probabilities_one_valid = probabilities_valid[:, 1]\n",
    "auc_roc = roc_auc_score(target_valid, probabilities_one_valid)\n",
    "print(auc_roc)"
   ]
  },
  {
   "cell_type": "markdown",
   "metadata": {},
   "source": [
    "Значение F1 выросло с 0.5664335664335663 до 0.6191709844559586. Это хороший показатель, возможно стоит принять эту модель для финального тестирования"
   ]
  },
  {
   "cell_type": "code",
   "execution_count": 26,
   "metadata": {
    "scrolled": true
   },
   "outputs": [
    {
     "data": {
      "text/plain": [
       "3.9034519956850056"
      ]
     },
     "execution_count": 26,
     "metadata": {},
     "output_type": "execute_result"
    }
   ],
   "source": [
    "target[target == 0].count() / target[target == 1].count()"
   ]
  },
  {
   "cell_type": "markdown",
   "metadata": {},
   "source": [
    "\"Нулей\" больше \"едениц\" в 3.9 раз"
   ]
  },
  {
   "cell_type": "markdown",
   "metadata": {},
   "source": [
    "### Увеличение выборки  "
   ]
  },
  {
   "cell_type": "markdown",
   "metadata": {},
   "source": [
    "Функция для увеличения выбоки для класса со значением 1"
   ]
  },
  {
   "cell_type": "code",
   "execution_count": 27,
   "metadata": {},
   "outputs": [],
   "source": [
    "def upsample(features, target, repeat):\n",
    "    features_zeros = features[target == 0]\n",
    "    features_ones = features[target == 1]\n",
    "    target_zeros = target[target == 0]\n",
    "    target_ones = target[target == 1]\n",
    "\n",
    "    features_upsampled = pd.concat([features_zeros] + [features_ones] * repeat)\n",
    "    target_upsampled = pd.concat([target_zeros] + [target_ones] * repeat)\n",
    "    \n",
    "    features_upsampled, target_upsampled = shuffle(\n",
    "        features_upsampled, target_upsampled, random_state=12345)\n",
    "    \n",
    "    return features_upsampled, target_upsampled\n",
    "\n",
    "features_upsampled, target_upsampled = upsample(features_train, target_train, 4)"
   ]
  },
  {
   "cell_type": "markdown",
   "metadata": {},
   "source": [
    "Баланс классов:"
   ]
  },
  {
   "cell_type": "code",
   "execution_count": 28,
   "metadata": {
    "scrolled": true
   },
   "outputs": [
    {
     "data": {
      "text/plain": [
       "0.9684986595174263"
      ]
     },
     "execution_count": 28,
     "metadata": {},
     "output_type": "execute_result"
    }
   ],
   "source": [
    "target_upsampled[target == 0].count() / target_upsampled[target == 1].count()"
   ]
  },
  {
   "cell_type": "markdown",
   "metadata": {},
   "source": [
    "Теперь можно обучать наши модели   "
   ]
  },
  {
   "cell_type": "markdown",
   "metadata": {},
   "source": [
    "Обучим и найдем F1-меру для логистической регрессии "
   ]
  },
  {
   "cell_type": "code",
   "execution_count": 29,
   "metadata": {},
   "outputs": [
    {
     "name": "stdout",
     "output_type": "stream",
     "text": [
      "Параметр F1: 0.5085714285714286 Параметр max_iter: 100\n",
      "CPU times: user 2.69 s, sys: 5.39 s, total: 8.08 s\n",
      "Wall time: 8.05 s\n"
     ]
    }
   ],
   "source": [
    "%%time\n",
    "\n",
    "best_f1_regression = 0\n",
    "\n",
    "for iter in range(100, 3001, 100):\n",
    "    model_regression = LogisticRegression(random_state=12345, solver='lbfgs', max_iter=1000) \n",
    "    model_regression.fit(features_upsampled, target_upsampled)\n",
    "    predictions_valid = model_regression.predict(features_valid)\n",
    "    f1_regression = f1_score(target_valid, predictions_valid)\n",
    "    if f1_regression > best_f1_regression:\n",
    "        best_model_regression = model_regression\n",
    "        best_f1_regression = f1_regression\n",
    "        best_max_iter = iter\n",
    "print('Параметр F1:', best_f1_regression, 'Параметр max_iter:', best_max_iter)"
   ]
  },
  {
   "cell_type": "code",
   "execution_count": 30,
   "metadata": {
    "scrolled": false
   },
   "outputs": [
    {
     "name": "stdout",
     "output_type": "stream",
     "text": [
      "0.7880908326324643\n"
     ]
    }
   ],
   "source": [
    "probabilities_valid = model_regression.predict_proba(features_valid)\n",
    "probabilities_one_valid = probabilities_valid[:, 1]\n",
    "auc_roc = roc_auc_score(target_valid, probabilities_one_valid)\n",
    "print(auc_roc)"
   ]
  },
  {
   "cell_type": "markdown",
   "metadata": {},
   "source": [
    "Обучим и найдем F1-меру для дерева решений "
   ]
  },
  {
   "cell_type": "code",
   "execution_count": 31,
   "metadata": {},
   "outputs": [
    {
     "name": "stdout",
     "output_type": "stream",
     "text": [
      "Лучший параметр F1 0.5741728922091781, значение глубины дерева 6\n",
      "CPU times: user 563 ms, sys: 0 ns, total: 563 ms\n",
      "Wall time: 568 ms\n"
     ]
    }
   ],
   "source": [
    "%%time\n",
    "\n",
    "best_model_tree = None\n",
    "best_f1_tree = 0\n",
    "best_depth_tree = 0\n",
    "for depth in range(1, 21):\n",
    "    model = DecisionTreeClassifier(random_state=12345, max_depth=depth) \n",
    "    model.fit(features_upsampled, target_upsampled) \n",
    "    predictions_valid = model.predict(features_valid)\n",
    "    f1_tree = f1_score(target_valid, predictions_valid)\n",
    "    if f1_tree > best_f1_tree:\n",
    "        best_model_tree = model\n",
    "        best_f1_tree = f1_tree\n",
    "        best_depth_tree = depth\n",
    "\n",
    "print(f'Лучший параметр F1 {best_f1_tree}, значение глубины дерева {best_depth_tree}')"
   ]
  },
  {
   "cell_type": "code",
   "execution_count": 32,
   "metadata": {
    "scrolled": true
   },
   "outputs": [
    {
     "name": "stdout",
     "output_type": "stream",
     "text": [
      "0.8272096065788244\n"
     ]
    }
   ],
   "source": [
    "probabilities_valid = best_model_tree.predict_proba(features_valid)\n",
    "probabilities_one_valid = probabilities_valid[:, 1]\n",
    "auc_roc = roc_auc_score(target_valid, probabilities_one_valid)\n",
    "print(auc_roc)"
   ]
  },
  {
   "cell_type": "markdown",
   "metadata": {},
   "source": [
    "Обучим и найдем F1-меру для случайного леса"
   ]
  },
  {
   "cell_type": "code",
   "execution_count": 33,
   "metadata": {
    "scrolled": true
   },
   "outputs": [
    {
     "name": "stdout",
     "output_type": "stream",
     "text": [
      "Лучший параметр F1 0.6180159635119727, значение числа деревьев 11, значение глубины дерева 7\n",
      "CPU times: user 6.48 s, sys: 39.1 ms, total: 6.52 s\n",
      "Wall time: 6.53 s\n"
     ]
    }
   ],
   "source": [
    "%%time\n",
    "\n",
    "best_model_forest = None\n",
    "best_f1_forest = 0\n",
    "best_depth_forest = 0\n",
    "best_est = 0\n",
    "for est in range(1, 15):\n",
    "    for depth in range(1, 11):\n",
    "        model = RandomForestClassifier(random_state=12345, n_estimators=est, max_depth=depth) \n",
    "        model.fit(features_upsampled, target_upsampled) \n",
    "        predictions_valid = model.predict(features_valid)\n",
    "        f1_forest = f1_score(target_valid, predictions_valid)\n",
    "        if f1_forest > best_f1_forest:\n",
    "            best_model_forest = model\n",
    "            best_f1_forest = f1_forest\n",
    "            best_depth_forest = depth\n",
    "            best_est = est\n",
    "\n",
    "print(f'Лучший параметр F1 {best_f1_forest}, \\\n",
    "значение числа деревьев {best_est}, значение глубины дерева {best_depth_forest}')"
   ]
  },
  {
   "cell_type": "code",
   "execution_count": 34,
   "metadata": {
    "scrolled": true
   },
   "outputs": [
    {
     "name": "stdout",
     "output_type": "stream",
     "text": [
      "0.8562489486963836\n"
     ]
    }
   ],
   "source": [
    "probabilities_valid = best_model_forest.predict_proba(features_valid)\n",
    "probabilities_one_valid = probabilities_valid[:, 1]\n",
    "auc_roc = roc_auc_score(target_valid, probabilities_one_valid)\n",
    "print(auc_roc)"
   ]
  },
  {
   "cell_type": "markdown",
   "metadata": {},
   "source": [
    "### Уменьшение выборки  "
   ]
  },
  {
   "cell_type": "markdown",
   "metadata": {},
   "source": [
    "Функция для уменьшения выбоки для класса со значением 0"
   ]
  },
  {
   "cell_type": "code",
   "execution_count": 35,
   "metadata": {},
   "outputs": [],
   "source": [
    "def downsample(features, target, fraction):\n",
    "    features_zeros = features[target == 0]\n",
    "    features_ones = features[target == 1]\n",
    "    target_zeros = target[target == 0]\n",
    "    target_ones = target[target == 1]\n",
    "\n",
    "    features_downsampled = pd.concat(\n",
    "        [features_zeros.sample(frac=fraction, random_state=12345)] + [features_ones])\n",
    "    target_downsampled = pd.concat(\n",
    "        [target_zeros.sample(frac=fraction, random_state=12345)] + [target_ones])\n",
    "    \n",
    "    features_downsampled, target_downsampled = shuffle(\n",
    "        features_downsampled, target_downsampled, random_state=12345)\n",
    "    \n",
    "    return features_downsampled, target_downsampled\n",
    "\n",
    "features_downsampled, target_downsampled = downsample(features_train, target_train, 0.259)"
   ]
  },
  {
   "cell_type": "code",
   "execution_count": 36,
   "metadata": {
    "scrolled": true
   },
   "outputs": [
    {
     "data": {
      "text/plain": [
       "1.003574620196604"
      ]
     },
     "execution_count": 36,
     "metadata": {},
     "output_type": "execute_result"
    }
   ],
   "source": [
    "target_downsampled[target == 0].count() / target_downsampled[target == 1].count()"
   ]
  },
  {
   "cell_type": "markdown",
   "metadata": {},
   "source": [
    "Теперь можно обучать наши модели   "
   ]
  },
  {
   "cell_type": "markdown",
   "metadata": {},
   "source": [
    "Обучим и найдем F1-меру для логистической регрессии "
   ]
  },
  {
   "cell_type": "code",
   "execution_count": 37,
   "metadata": {},
   "outputs": [
    {
     "name": "stdout",
     "output_type": "stream",
     "text": [
      "Параметр F1: 0.5197628458498023 Параметр max_iter: 100\n",
      "CPU times: user 1.5 s, sys: 3.21 s, total: 4.71 s\n",
      "Wall time: 4.7 s\n"
     ]
    }
   ],
   "source": [
    "%%time\n",
    "\n",
    "best_f1_regression = 0\n",
    "\n",
    "for iter in range(100, 3001, 100):\n",
    "    model_regression = LogisticRegression(random_state=12345, solver='lbfgs', max_iter=1000) \n",
    "    model_regression.fit(features_downsampled, target_downsampled)\n",
    "    predictions_valid = model_regression.predict(features_valid)\n",
    "    f1_regression = f1_score(target_valid, predictions_valid)\n",
    "    if f1_regression > best_f1_regression:\n",
    "        best_model_regression = model_regression\n",
    "        best_f1_regression = f1_regression\n",
    "        best_max_iter = iter\n",
    "print('Параметр F1:', best_f1_regression, 'Параметр max_iter:', best_max_iter)"
   ]
  },
  {
   "cell_type": "code",
   "execution_count": 38,
   "metadata": {
    "scrolled": true
   },
   "outputs": [
    {
     "name": "stdout",
     "output_type": "stream",
     "text": [
      "0.7875918138491731\n"
     ]
    }
   ],
   "source": [
    "probabilities_valid = model_regression.predict_proba(features_valid)\n",
    "probabilities_one_valid = probabilities_valid[:, 1]\n",
    "auc_roc = roc_auc_score(target_valid, probabilities_one_valid)\n",
    "print(auc_roc)"
   ]
  },
  {
   "cell_type": "markdown",
   "metadata": {},
   "source": [
    "Обучим и найдем F1-меру для дерева решений "
   ]
  },
  {
   "cell_type": "code",
   "execution_count": 39,
   "metadata": {},
   "outputs": [
    {
     "name": "stdout",
     "output_type": "stream",
     "text": [
      "Лучший параметр F1 0.5758354755784061, значение глубины дерева 5\n",
      "CPU times: user 111 ms, sys: 62.4 ms, total: 173 ms\n",
      "Wall time: 177 ms\n"
     ]
    }
   ],
   "source": [
    "%%time\n",
    "\n",
    "best_model_tree = None\n",
    "best_f1_tree = 0\n",
    "best_depth_tree = 0\n",
    "for depth in range(1, 11):\n",
    "    model = DecisionTreeClassifier(random_state=12345, max_depth=depth) \n",
    "    model.fit(features_downsampled, target_downsampled) \n",
    "    predictions_valid = model.predict(features_valid)\n",
    "    f1_tree = f1_score(target_valid, predictions_valid)\n",
    "    if f1_tree > best_f1_tree:\n",
    "        best_model_tree = model\n",
    "        best_f1_tree = f1_tree\n",
    "        best_depth_tree = depth\n",
    "\n",
    "print(f'Лучший параметр F1 {best_f1_tree}, значение глубины дерева {best_depth_tree}')"
   ]
  },
  {
   "cell_type": "code",
   "execution_count": 40,
   "metadata": {
    "scrolled": false
   },
   "outputs": [
    {
     "name": "stdout",
     "output_type": "stream",
     "text": [
      "0.8173114662181105\n"
     ]
    }
   ],
   "source": [
    "probabilities_valid = best_model_tree.predict_proba(features_valid)\n",
    "probabilities_one_valid = probabilities_valid[:, 1]\n",
    "auc_roc = roc_auc_score(target_valid, probabilities_one_valid)\n",
    "print(auc_roc)"
   ]
  },
  {
   "cell_type": "markdown",
   "metadata": {},
   "source": [
    "Обучим и найдем F1-меру для случайного леса"
   ]
  },
  {
   "cell_type": "code",
   "execution_count": 41,
   "metadata": {
    "scrolled": true
   },
   "outputs": [
    {
     "name": "stdout",
     "output_type": "stream",
     "text": [
      "Лучший параметр F1 0.6148491879350348, значение числа деревьев 14, значение глубины дерева 4\n",
      "CPU times: user 6.27 s, sys: 52.9 ms, total: 6.33 s\n",
      "Wall time: 6.34 s\n"
     ]
    }
   ],
   "source": [
    "%%time\n",
    "\n",
    "best_model_forest = None\n",
    "best_f1_forest = 0\n",
    "best_depth_forest = 0\n",
    "best_est = 0\n",
    "for est in range(1, 21):\n",
    "    for depth in range(1, 11):\n",
    "        model = RandomForestClassifier(random_state=12345, n_estimators=est, max_depth=depth) \n",
    "        model.fit(features_downsampled, target_downsampled) \n",
    "        predictions_valid = model.predict(features_valid)\n",
    "        f1_forest = f1_score(target_valid, predictions_valid)\n",
    "        if f1_forest > best_f1_forest:\n",
    "            best_model_forest = model\n",
    "            best_f1_forest = f1_forest\n",
    "            best_depth_forest = depth\n",
    "            best_est = est\n",
    "\n",
    "print(f'Лучший параметр F1 {best_f1_forest}, \\\n",
    "значение числа деревьев {best_est}, значение глубины дерева {best_depth_forest}')"
   ]
  },
  {
   "cell_type": "code",
   "execution_count": 42,
   "metadata": {
    "scrolled": false
   },
   "outputs": [
    {
     "name": "stdout",
     "output_type": "stream",
     "text": [
      "0.8552340902719373\n"
     ]
    }
   ],
   "source": [
    "probabilities_valid = best_model_forest.predict_proba(features_valid)\n",
    "probabilities_one_valid = probabilities_valid[:, 1]\n",
    "auc_roc = roc_auc_score(target_valid, probabilities_one_valid)\n",
    "print(auc_roc)"
   ]
  },
  {
   "cell_type": "markdown",
   "metadata": {},
   "source": [
    "Лучше всего себя показала модель случайного леса при увеличении выборки с параметрами: число деревьев – 14, глубина дерева – 4. Ее мы и возьмем для финального тестирования"
   ]
  },
  {
   "cell_type": "markdown",
   "metadata": {},
   "source": [
    "## Тестирование модели"
   ]
  },
  {
   "cell_type": "markdown",
   "metadata": {},
   "source": [
    "Объединим обучающую и валидационную выборку "
   ]
  },
  {
   "cell_type": "markdown",
   "metadata": {},
   "source": [
    "Проверим дисбаланс валидационной выборки"
   ]
  },
  {
   "cell_type": "code",
   "execution_count": 43,
   "metadata": {},
   "outputs": [
    {
     "data": {
      "text/plain": [
       "3.9295392953929538"
      ]
     },
     "execution_count": 43,
     "metadata": {},
     "output_type": "execute_result"
    }
   ],
   "source": [
    "target_valid[target == 0].count() / target_valid[target == 1].count()"
   ]
  },
  {
   "cell_type": "markdown",
   "metadata": {},
   "source": [
    "Увеличим меньшую выборку"
   ]
  },
  {
   "cell_type": "code",
   "execution_count": 44,
   "metadata": {},
   "outputs": [
    {
     "data": {
      "text/plain": [
       "0.9823848238482384"
      ]
     },
     "execution_count": 44,
     "metadata": {},
     "output_type": "execute_result"
    }
   ],
   "source": [
    "features_upsampled_valid, target_upsampled_valid = upsample(features_valid, target_valid, 4)\n",
    "target_upsampled_valid[target == 0].count() / target_upsampled_valid[target == 1].count()"
   ]
  },
  {
   "cell_type": "code",
   "execution_count": 45,
   "metadata": {},
   "outputs": [],
   "source": [
    "features_upsampled_valid_concat = pd.concat([features_upsampled] + [features_upsampled_valid])\n",
    "target_upsampled_valid_concat = pd.concat([target_upsampled] + [target_upsampled_valid])"
   ]
  },
  {
   "cell_type": "markdown",
   "metadata": {},
   "source": [
    "Обучим модель случайного леса  "
   ]
  },
  {
   "cell_type": "code",
   "execution_count": 46,
   "metadata": {},
   "outputs": [
    {
     "data": {
      "text/plain": [
       "(0.574585635359116, 0.8346881633021722)"
      ]
     },
     "execution_count": 46,
     "metadata": {},
     "output_type": "execute_result"
    }
   ],
   "source": [
    "model = RandomForestClassifier(random_state=12345, n_estimators=14, max_depth=4)\n",
    "model.fit(features_upsampled_valid_concat, target_upsampled_valid_concat) \n",
    "predictions_test = model.predict(features_test)\n",
    "f1_forest = f1_score(target_test, predictions_test)\n",
    "probabilities_test = model.predict_proba(features_test)\n",
    "probabilities_one_test = probabilities_test[:, 1]\n",
    "auc_roc = roc_auc_score(target_test, probabilities_one_test)\n",
    "f1_forest, auc_roc"
   ]
  },
  {
   "cell_type": "markdown",
   "metadata": {},
   "source": [
    "Лучшая модель на приобраззованных выборка не смогла достигнуть нужного порога, поэтому возьмем модель которая обучалась на выборках с дисбалансом"
   ]
  },
  {
   "cell_type": "code",
   "execution_count": 47,
   "metadata": {},
   "outputs": [],
   "source": [
    "features_valid_concat = pd.concat([features_train] + [features_valid])\n",
    "target_valid_concat = pd.concat([target_train] + [target_valid])"
   ]
  },
  {
   "cell_type": "code",
   "execution_count": 48,
   "metadata": {},
   "outputs": [
    {
     "data": {
      "text/plain": [
       "(0.6140127388535032, 0.8559213596471421)"
      ]
     },
     "execution_count": 48,
     "metadata": {},
     "output_type": "execute_result"
    }
   ],
   "source": [
    "model = RandomForestClassifier(random_state=12345, n_estimators=96, max_depth=9, class_weight='balanced') \n",
    "model.fit(features_valid_concat, target_valid_concat) \n",
    "predictions_test = model.predict(features_test)\n",
    "f1_forest = f1_score(target_test, predictions_test)\n",
    "probabilities_test = model.predict_proba(features_test)\n",
    "probabilities_one_test = probabilities_test[:, 1]\n",
    "auc_roc = roc_auc_score(target_test, probabilities_one_test)\n",
    "f1_forest, auc_roc"
   ]
  },
  {
   "cell_type": "markdown",
   "metadata": {},
   "source": [
    "**Вывод:**\n",
    "\n",
    "На тестовой выборке модель случайного леса показала F1-меру равную 0.6140127388535032, это значение больше необходимого значения - 0.59, можно сказать что полученная модель прошла тест.\n",
    "\n",
    "На тестовой выборке модель случайного леса показала значение AUC-ROC равной 0.8559213596471421. Значение AUC-ROC случайной модели равно 0.5. Это означает что полученная модель предсказывает лучше случайной модели на 0.3559213596471421 \n"
   ]
  },
  {
   "cell_type": "markdown",
   "metadata": {},
   "source": [
    "# Итоговой вывод"
   ]
  },
  {
   "cell_type": "markdown",
   "metadata": {},
   "source": [
    "В первом разделе “Подготовка данных” был загружен датасет, на котором основывается все наше исследование. Во время изучения было обнаружено, что датасет имеет около 9% данных с пропусками. Заполнять пропуски показалось плохой идеей, так как искусственные данные могли бы повлиять на результаты обучения модели. Датасет был разделен на две выборки обучения, а впоследствии еще раз разделен на обучающую, валидационную и тестовую выборку. Категориальные признаки были преобразованы, количественные признаки были стандартизированы.\n",
    "\n",
    "Во втором разделе “Исследование задачи”для обучения были взяты 3 модели: Логистическая регрессия, дерево решений и случайный лес. Лучше всех себя показало дерево решений с параметрами значения глубины дерева – 9, его значение F1-меры оказалось выше всех и составляло 0,5942684766214177. В датасете наблюдался явный дисбаланс классов, поэтому чтобы поднять значение F1-меры необходимо было решить эту проблему. \n",
    "\n",
    "В третьем разделе “Борьба с дисбалансом” протестированы 3 различных вариации принятых моделей: \n",
    "* Без преобразования выборок и с дополнительным параметром class_weight.\n",
    "* Разделение выборок на классы и увеличение выборки с классом меньшего веса. \n",
    "* Разделение выборок на классы и уменьшение выборки с классом большего веса.\n",
    "\n",
    "Лучше всего себя показала модель случайного леса без преобразования выборок и с дополнительным параметром class_weight и параметрами значения числа деревьев – 96 и значения глубины дерева - 9, его значение F1-меры составило 0,6191709844559586. Эта модель была выбрана для финального тестирования. \n",
    "\n",
    " В четвертом разделе “Тестирование модели” наша выбранная модель случайного леса дополнительно обучилась на валидационной выборки и показала итоговую F1- меру – 0,6140127388535032. Порог для удачного прохождения теста F1-меры – 0.59. Модель смогла превысить порог на 0.024. Тестирование пройдено. \n"
   ]
  },
  {
   "cell_type": "code",
   "execution_count": null,
   "metadata": {},
   "outputs": [],
   "source": []
  }
 ],
 "metadata": {
  "ExecuteTimeLog": [
   {
    "duration": 1088,
    "start_time": "2023-01-21T07:08:51.274Z"
   },
   {
    "duration": 193,
    "start_time": "2023-01-21T07:08:52.876Z"
   },
   {
    "duration": 14,
    "start_time": "2023-01-21T07:09:17.124Z"
   },
   {
    "duration": 51,
    "start_time": "2023-01-21T07:14:05.760Z"
   },
   {
    "duration": 62,
    "start_time": "2023-01-21T07:14:15.360Z"
   },
   {
    "duration": 50,
    "start_time": "2023-01-21T07:14:41.551Z"
   },
   {
    "duration": 9,
    "start_time": "2023-01-21T07:14:58.351Z"
   },
   {
    "duration": 833,
    "start_time": "2023-01-21T07:15:09.623Z"
   },
   {
    "duration": 23,
    "start_time": "2023-01-21T07:15:35.495Z"
   },
   {
    "duration": 16,
    "start_time": "2023-01-21T07:16:37.800Z"
   },
   {
    "duration": 13,
    "start_time": "2023-01-21T07:16:44.495Z"
   },
   {
    "duration": 10,
    "start_time": "2023-01-21T07:18:24.032Z"
   },
   {
    "duration": 8,
    "start_time": "2023-01-21T07:18:28.832Z"
   },
   {
    "duration": 12,
    "start_time": "2023-01-21T07:18:39.496Z"
   },
   {
    "duration": 10,
    "start_time": "2023-01-21T07:21:48.355Z"
   },
   {
    "duration": 5,
    "start_time": "2023-01-21T07:22:28.671Z"
   },
   {
    "duration": 10,
    "start_time": "2023-01-21T08:03:17.994Z"
   },
   {
    "duration": 14,
    "start_time": "2023-01-21T08:03:34.137Z"
   },
   {
    "duration": 11,
    "start_time": "2023-01-21T08:03:48.001Z"
   },
   {
    "duration": 10,
    "start_time": "2023-01-21T08:03:57.050Z"
   },
   {
    "duration": 1192,
    "start_time": "2023-01-21T08:04:19.774Z"
   },
   {
    "duration": 57,
    "start_time": "2023-01-21T08:04:20.968Z"
   },
   {
    "duration": 0,
    "start_time": "2023-01-21T08:04:21.026Z"
   },
   {
    "duration": 0,
    "start_time": "2023-01-21T08:04:21.028Z"
   },
   {
    "duration": 0,
    "start_time": "2023-01-21T08:04:21.029Z"
   },
   {
    "duration": 1124,
    "start_time": "2023-01-21T08:04:35.946Z"
   },
   {
    "duration": 63,
    "start_time": "2023-01-21T08:04:37.072Z"
   },
   {
    "duration": 21,
    "start_time": "2023-01-21T08:04:37.136Z"
   },
   {
    "duration": 22,
    "start_time": "2023-01-21T08:04:37.159Z"
   },
   {
    "duration": 28,
    "start_time": "2023-01-21T08:04:37.183Z"
   },
   {
    "duration": 1166,
    "start_time": "2023-01-21T08:05:49.449Z"
   },
   {
    "duration": 63,
    "start_time": "2023-01-21T08:05:50.618Z"
   },
   {
    "duration": 14,
    "start_time": "2023-01-21T08:05:50.683Z"
   },
   {
    "duration": 5,
    "start_time": "2023-01-21T08:05:50.699Z"
   },
   {
    "duration": 56,
    "start_time": "2023-01-21T08:05:50.706Z"
   },
   {
    "duration": 48,
    "start_time": "2023-01-21T08:06:17.352Z"
   },
   {
    "duration": 1140,
    "start_time": "2023-01-21T08:06:47.910Z"
   },
   {
    "duration": 54,
    "start_time": "2023-01-21T08:06:49.053Z"
   },
   {
    "duration": 12,
    "start_time": "2023-01-21T08:06:49.109Z"
   },
   {
    "duration": 10,
    "start_time": "2023-01-21T08:06:49.123Z"
   },
   {
    "duration": 26,
    "start_time": "2023-01-21T08:06:49.134Z"
   },
   {
    "duration": 10,
    "start_time": "2023-01-21T08:07:06.624Z"
   },
   {
    "duration": 8,
    "start_time": "2023-01-21T08:08:07.696Z"
   },
   {
    "duration": 1083,
    "start_time": "2023-01-21T08:08:12.407Z"
   },
   {
    "duration": 63,
    "start_time": "2023-01-21T08:08:13.493Z"
   },
   {
    "duration": 13,
    "start_time": "2023-01-21T08:08:13.557Z"
   },
   {
    "duration": 5,
    "start_time": "2023-01-21T08:08:13.571Z"
   },
   {
    "duration": 9,
    "start_time": "2023-01-21T08:08:13.578Z"
   },
   {
    "duration": 1101,
    "start_time": "2023-01-21T08:10:53.595Z"
   },
   {
    "duration": 70,
    "start_time": "2023-01-21T08:10:54.698Z"
   },
   {
    "duration": 14,
    "start_time": "2023-01-21T08:10:54.770Z"
   },
   {
    "duration": 25,
    "start_time": "2023-01-21T08:10:54.786Z"
   },
   {
    "duration": 35,
    "start_time": "2023-01-21T08:10:54.814Z"
   },
   {
    "duration": 16,
    "start_time": "2023-01-21T08:11:23.871Z"
   },
   {
    "duration": 5,
    "start_time": "2023-01-21T08:35:30.745Z"
   },
   {
    "duration": 14,
    "start_time": "2023-01-21T08:35:39.441Z"
   },
   {
    "duration": 10,
    "start_time": "2023-01-21T08:43:00.692Z"
   },
   {
    "duration": 1156,
    "start_time": "2023-01-21T08:45:32.435Z"
   },
   {
    "duration": 70,
    "start_time": "2023-01-21T08:45:33.594Z"
   },
   {
    "duration": 16,
    "start_time": "2023-01-21T08:45:33.665Z"
   },
   {
    "duration": 23,
    "start_time": "2023-01-21T08:45:33.683Z"
   },
   {
    "duration": 36,
    "start_time": "2023-01-21T08:45:33.708Z"
   },
   {
    "duration": 41,
    "start_time": "2023-01-21T08:45:33.747Z"
   },
   {
    "duration": 14,
    "start_time": "2023-01-21T08:45:33.790Z"
   },
   {
    "duration": 35,
    "start_time": "2023-01-21T08:45:33.806Z"
   },
   {
    "duration": 14,
    "start_time": "2023-01-21T08:46:00.829Z"
   },
   {
    "duration": 22,
    "start_time": "2023-01-21T08:47:40.531Z"
   },
   {
    "duration": 100,
    "start_time": "2023-01-21T08:51:14.122Z"
   },
   {
    "duration": 6,
    "start_time": "2023-01-21T08:51:34.217Z"
   },
   {
    "duration": 6,
    "start_time": "2023-01-21T08:51:45.760Z"
   },
   {
    "duration": 32,
    "start_time": "2023-01-21T08:53:51.000Z"
   },
   {
    "duration": 30,
    "start_time": "2023-01-21T08:54:03.592Z"
   },
   {
    "duration": 6,
    "start_time": "2023-01-21T09:02:26.492Z"
   },
   {
    "duration": 10,
    "start_time": "2023-01-21T09:08:43.272Z"
   },
   {
    "duration": 89,
    "start_time": "2023-01-21T09:09:01.152Z"
   },
   {
    "duration": 9,
    "start_time": "2023-01-21T09:09:08.803Z"
   },
   {
    "duration": 5,
    "start_time": "2023-01-21T09:09:30.120Z"
   },
   {
    "duration": 7,
    "start_time": "2023-01-21T09:12:48.520Z"
   },
   {
    "duration": 173,
    "start_time": "2023-01-21T09:13:05.343Z"
   },
   {
    "duration": 10,
    "start_time": "2023-01-21T09:13:09.348Z"
   },
   {
    "duration": 7,
    "start_time": "2023-01-21T09:13:33.286Z"
   },
   {
    "duration": 6,
    "start_time": "2023-01-21T09:13:41.414Z"
   },
   {
    "duration": 6,
    "start_time": "2023-01-21T09:13:47.079Z"
   },
   {
    "duration": 9,
    "start_time": "2023-01-21T09:17:48.095Z"
   },
   {
    "duration": 8,
    "start_time": "2023-01-21T09:17:56.236Z"
   },
   {
    "duration": 5,
    "start_time": "2023-01-21T09:18:02.244Z"
   },
   {
    "duration": 6,
    "start_time": "2023-01-21T09:18:08.765Z"
   },
   {
    "duration": 1160,
    "start_time": "2023-01-21T09:21:01.327Z"
   },
   {
    "duration": 59,
    "start_time": "2023-01-21T09:21:02.489Z"
   },
   {
    "duration": 13,
    "start_time": "2023-01-21T09:21:02.550Z"
   },
   {
    "duration": 9,
    "start_time": "2023-01-21T09:21:02.565Z"
   },
   {
    "duration": 14,
    "start_time": "2023-01-21T09:21:02.576Z"
   },
   {
    "duration": 14,
    "start_time": "2023-01-21T09:21:02.591Z"
   },
   {
    "duration": 39,
    "start_time": "2023-01-21T09:21:02.607Z"
   },
   {
    "duration": 30,
    "start_time": "2023-01-21T09:21:02.648Z"
   },
   {
    "duration": 129,
    "start_time": "2023-01-21T09:21:02.680Z"
   },
   {
    "duration": 0,
    "start_time": "2023-01-21T09:21:02.810Z"
   },
   {
    "duration": 0,
    "start_time": "2023-01-21T09:21:02.811Z"
   },
   {
    "duration": 0,
    "start_time": "2023-01-21T09:21:02.812Z"
   },
   {
    "duration": 0,
    "start_time": "2023-01-21T09:21:02.813Z"
   },
   {
    "duration": 4,
    "start_time": "2023-01-21T09:21:27.410Z"
   },
   {
    "duration": 1169,
    "start_time": "2023-01-21T09:21:56.445Z"
   },
   {
    "duration": 62,
    "start_time": "2023-01-21T09:21:57.616Z"
   },
   {
    "duration": 22,
    "start_time": "2023-01-21T09:21:57.679Z"
   },
   {
    "duration": 91,
    "start_time": "2023-01-21T09:21:57.703Z"
   },
   {
    "duration": 32,
    "start_time": "2023-01-21T09:21:57.797Z"
   },
   {
    "duration": 23,
    "start_time": "2023-01-21T09:21:57.831Z"
   },
   {
    "duration": 28,
    "start_time": "2023-01-21T09:21:57.856Z"
   },
   {
    "duration": 49,
    "start_time": "2023-01-21T09:21:57.886Z"
   },
   {
    "duration": 44,
    "start_time": "2023-01-21T09:21:57.937Z"
   },
   {
    "duration": 6,
    "start_time": "2023-01-21T09:21:57.983Z"
   },
   {
    "duration": 32,
    "start_time": "2023-01-21T09:21:57.991Z"
   },
   {
    "duration": 23,
    "start_time": "2023-01-21T09:21:58.025Z"
   },
   {
    "duration": 22,
    "start_time": "2023-01-21T09:21:58.050Z"
   },
   {
    "duration": 369,
    "start_time": "2023-01-21T09:31:52.270Z"
   },
   {
    "duration": 306,
    "start_time": "2023-01-21T09:32:03.933Z"
   },
   {
    "duration": 303,
    "start_time": "2023-01-21T09:32:07.237Z"
   },
   {
    "duration": 4,
    "start_time": "2023-01-21T09:33:21.397Z"
   },
   {
    "duration": 12,
    "start_time": "2023-01-21T09:34:46.188Z"
   },
   {
    "duration": 488,
    "start_time": "2023-01-21T09:38:15.029Z"
   },
   {
    "duration": 173,
    "start_time": "2023-01-21T09:38:25.178Z"
   },
   {
    "duration": 130,
    "start_time": "2023-01-21T09:39:10.635Z"
   },
   {
    "duration": 8,
    "start_time": "2023-01-21T09:39:46.298Z"
   },
   {
    "duration": 50497,
    "start_time": "2023-01-21T09:42:34.529Z"
   },
   {
    "duration": 588862,
    "start_time": "2023-01-21T09:45:04.975Z"
   },
   {
    "duration": 44995,
    "start_time": "2023-01-21T09:55:45.883Z"
   },
   {
    "duration": 34,
    "start_time": "2023-01-21T09:59:53.746Z"
   },
   {
    "duration": 623,
    "start_time": "2023-01-21T10:01:06.942Z"
   },
   {
    "duration": 49,
    "start_time": "2023-01-21T10:01:15.106Z"
   },
   {
    "duration": 295,
    "start_time": "2023-01-21T10:01:18.554Z"
   },
   {
    "duration": 108,
    "start_time": "2023-01-21T10:39:05.532Z"
   },
   {
    "duration": 8,
    "start_time": "2023-01-21T10:39:07.620Z"
   },
   {
    "duration": 6,
    "start_time": "2023-01-21T10:43:47.452Z"
   },
   {
    "duration": 4,
    "start_time": "2023-01-21T10:47:49.025Z"
   },
   {
    "duration": 15,
    "start_time": "2023-01-21T10:49:34.512Z"
   },
   {
    "duration": 26,
    "start_time": "2023-01-21T10:50:58.564Z"
   },
   {
    "duration": 15,
    "start_time": "2023-01-21T10:51:05.624Z"
   },
   {
    "duration": 10,
    "start_time": "2023-01-21T10:51:29.216Z"
   },
   {
    "duration": 7,
    "start_time": "2023-01-21T10:53:32.402Z"
   },
   {
    "duration": 11,
    "start_time": "2023-01-21T10:55:21.359Z"
   },
   {
    "duration": 6,
    "start_time": "2023-01-21T10:55:43.704Z"
   },
   {
    "duration": 2441,
    "start_time": "2023-01-21T10:56:00.588Z"
   },
   {
    "duration": 769,
    "start_time": "2023-01-21T10:56:03.032Z"
   },
   {
    "duration": 15,
    "start_time": "2023-01-21T10:56:03.803Z"
   },
   {
    "duration": 9,
    "start_time": "2023-01-21T10:56:03.820Z"
   },
   {
    "duration": 52,
    "start_time": "2023-01-21T10:56:03.832Z"
   },
   {
    "duration": 33,
    "start_time": "2023-01-21T10:56:03.885Z"
   },
   {
    "duration": 29,
    "start_time": "2023-01-21T10:56:03.920Z"
   },
   {
    "duration": 62,
    "start_time": "2023-01-21T10:56:03.951Z"
   },
   {
    "duration": 35,
    "start_time": "2023-01-21T10:56:04.016Z"
   },
   {
    "duration": 6,
    "start_time": "2023-01-21T10:56:04.053Z"
   },
   {
    "duration": 22,
    "start_time": "2023-01-21T10:56:04.062Z"
   },
   {
    "duration": 25,
    "start_time": "2023-01-21T10:56:04.086Z"
   },
   {
    "duration": 56,
    "start_time": "2023-01-21T10:56:04.113Z"
   },
   {
    "duration": 481,
    "start_time": "2023-01-21T10:56:04.172Z"
   },
   {
    "duration": 94,
    "start_time": "2023-01-21T10:56:04.658Z"
   },
   {
    "duration": 363,
    "start_time": "2023-01-21T10:56:04.756Z"
   },
   {
    "duration": 21,
    "start_time": "2023-01-21T10:56:05.121Z"
   },
   {
    "duration": 44110,
    "start_time": "2023-01-21T10:56:05.152Z"
   },
   {
    "duration": 28,
    "start_time": "2023-01-21T10:56:49.264Z"
   },
   {
    "duration": 1554,
    "start_time": "2023-01-21T10:56:49.294Z"
   },
   {
    "duration": 84,
    "start_time": "2023-01-21T10:56:50.865Z"
   },
   {
    "duration": 137,
    "start_time": "2023-01-21T10:56:50.951Z"
   },
   {
    "duration": 61,
    "start_time": "2023-01-21T10:56:51.091Z"
   },
   {
    "duration": 19,
    "start_time": "2023-01-21T10:56:51.155Z"
   },
   {
    "duration": 9,
    "start_time": "2023-01-21T10:56:51.176Z"
   },
   {
    "duration": 14,
    "start_time": "2023-01-21T10:56:51.187Z"
   },
   {
    "duration": 15,
    "start_time": "2023-01-21T10:58:13.052Z"
   },
   {
    "duration": 8,
    "start_time": "2023-01-21T10:58:28.756Z"
   },
   {
    "duration": 1171,
    "start_time": "2023-01-21T10:58:46.651Z"
   },
   {
    "duration": 75,
    "start_time": "2023-01-21T10:58:47.825Z"
   },
   {
    "duration": 17,
    "start_time": "2023-01-21T10:58:47.903Z"
   },
   {
    "duration": 19,
    "start_time": "2023-01-21T10:58:47.922Z"
   },
   {
    "duration": 37,
    "start_time": "2023-01-21T10:58:47.944Z"
   },
   {
    "duration": 28,
    "start_time": "2023-01-21T10:58:47.982Z"
   },
   {
    "duration": 29,
    "start_time": "2023-01-21T10:58:48.012Z"
   },
   {
    "duration": 47,
    "start_time": "2023-01-21T10:58:48.043Z"
   },
   {
    "duration": 43,
    "start_time": "2023-01-21T10:58:48.092Z"
   },
   {
    "duration": 32,
    "start_time": "2023-01-21T10:58:48.139Z"
   },
   {
    "duration": 39,
    "start_time": "2023-01-21T10:58:48.173Z"
   },
   {
    "duration": 45,
    "start_time": "2023-01-21T10:58:48.214Z"
   },
   {
    "duration": 27,
    "start_time": "2023-01-21T10:58:48.261Z"
   },
   {
    "duration": 158,
    "start_time": "2023-01-21T10:58:48.291Z"
   },
   {
    "duration": 99,
    "start_time": "2023-01-21T10:58:48.451Z"
   },
   {
    "duration": 327,
    "start_time": "2023-01-21T10:58:48.552Z"
   },
   {
    "duration": 7,
    "start_time": "2023-01-21T10:58:48.881Z"
   },
   {
    "duration": 45197,
    "start_time": "2023-01-21T10:58:48.890Z"
   },
   {
    "duration": 25,
    "start_time": "2023-01-21T10:59:34.089Z"
   },
   {
    "duration": 436,
    "start_time": "2023-01-21T10:59:34.116Z"
   },
   {
    "duration": 86,
    "start_time": "2023-01-21T10:59:34.556Z"
   },
   {
    "duration": 112,
    "start_time": "2023-01-21T10:59:34.648Z"
   },
   {
    "duration": 14,
    "start_time": "2023-01-21T10:59:34.761Z"
   },
   {
    "duration": 8,
    "start_time": "2023-01-21T10:59:34.777Z"
   },
   {
    "duration": 9,
    "start_time": "2023-01-21T10:59:34.786Z"
   },
   {
    "duration": 7,
    "start_time": "2023-01-21T10:59:34.797Z"
   },
   {
    "duration": 8,
    "start_time": "2023-01-21T11:01:55.795Z"
   },
   {
    "duration": 8,
    "start_time": "2023-01-21T11:02:10.763Z"
   },
   {
    "duration": 5,
    "start_time": "2023-01-21T11:02:56.499Z"
   },
   {
    "duration": 18,
    "start_time": "2023-01-21T11:02:58.293Z"
   },
   {
    "duration": 9,
    "start_time": "2023-01-21T11:02:59.364Z"
   },
   {
    "duration": 10,
    "start_time": "2023-01-21T11:03:04.379Z"
   },
   {
    "duration": 5,
    "start_time": "2023-01-21T11:03:04.794Z"
   },
   {
    "duration": 6,
    "start_time": "2023-01-21T11:03:23.275Z"
   },
   {
    "duration": 20,
    "start_time": "2023-01-21T11:03:24.012Z"
   },
   {
    "duration": 16,
    "start_time": "2023-01-21T11:05:31.058Z"
   },
   {
    "duration": 9,
    "start_time": "2023-01-21T11:05:32.249Z"
   },
   {
    "duration": 1231,
    "start_time": "2023-01-21T11:06:10.234Z"
   },
   {
    "duration": 58,
    "start_time": "2023-01-21T11:06:11.467Z"
   },
   {
    "duration": 18,
    "start_time": "2023-01-21T11:06:11.527Z"
   },
   {
    "duration": 14,
    "start_time": "2023-01-21T11:06:11.549Z"
   },
   {
    "duration": 16,
    "start_time": "2023-01-21T11:06:11.565Z"
   },
   {
    "duration": 16,
    "start_time": "2023-01-21T11:06:11.583Z"
   },
   {
    "duration": 15,
    "start_time": "2023-01-21T11:06:11.601Z"
   },
   {
    "duration": 34,
    "start_time": "2023-01-21T11:06:11.618Z"
   },
   {
    "duration": 36,
    "start_time": "2023-01-21T11:06:11.653Z"
   },
   {
    "duration": 5,
    "start_time": "2023-01-21T11:06:11.692Z"
   },
   {
    "duration": 10,
    "start_time": "2023-01-21T11:06:11.699Z"
   },
   {
    "duration": 26,
    "start_time": "2023-01-21T11:06:11.711Z"
   },
   {
    "duration": 8,
    "start_time": "2023-01-21T11:06:11.742Z"
   },
   {
    "duration": 597,
    "start_time": "2023-01-21T11:06:11.752Z"
   },
   {
    "duration": 106,
    "start_time": "2023-01-21T11:06:12.352Z"
   },
   {
    "duration": 338,
    "start_time": "2023-01-21T11:06:12.460Z"
   },
   {
    "duration": 7,
    "start_time": "2023-01-21T11:06:12.800Z"
   },
   {
    "duration": 43331,
    "start_time": "2023-01-21T11:06:12.809Z"
   },
   {
    "duration": 27,
    "start_time": "2023-01-21T11:06:56.146Z"
   },
   {
    "duration": 668,
    "start_time": "2023-01-21T11:06:56.175Z"
   },
   {
    "duration": 97,
    "start_time": "2023-01-21T11:06:56.845Z"
   },
   {
    "duration": 144,
    "start_time": "2023-01-21T11:06:56.948Z"
   },
   {
    "duration": 48,
    "start_time": "2023-01-21T11:06:57.094Z"
   },
   {
    "duration": 81,
    "start_time": "2023-01-21T11:06:57.145Z"
   },
   {
    "duration": 391,
    "start_time": "2023-01-21T11:08:45.761Z"
   },
   {
    "duration": 8,
    "start_time": "2023-01-21T11:08:50.961Z"
   },
   {
    "duration": 199,
    "start_time": "2023-01-21T11:09:51.090Z"
   },
   {
    "duration": 9,
    "start_time": "2023-01-21T11:09:53.081Z"
   },
   {
    "duration": 591,
    "start_time": "2023-01-21T11:09:57.929Z"
   },
   {
    "duration": 9,
    "start_time": "2023-01-21T11:09:59.377Z"
   },
   {
    "duration": 213,
    "start_time": "2023-01-21T11:10:05.208Z"
   },
   {
    "duration": 9,
    "start_time": "2023-01-21T11:10:05.960Z"
   },
   {
    "duration": 715579,
    "start_time": "2023-01-21T11:11:06.521Z"
   },
   {
    "duration": 16,
    "start_time": "2023-01-21T11:24:06.731Z"
   },
   {
    "duration": 12415,
    "start_time": "2023-01-21T11:24:25.035Z"
   },
   {
    "duration": 12,
    "start_time": "2023-01-21T11:25:05.995Z"
   },
   {
    "duration": 12,
    "start_time": "2023-01-21T11:27:31.969Z"
   },
   {
    "duration": 8,
    "start_time": "2023-01-21T11:27:49.713Z"
   },
   {
    "duration": 12,
    "start_time": "2023-01-21T11:28:24.433Z"
   },
   {
    "duration": 8,
    "start_time": "2023-01-21T11:28:34.452Z"
   },
   {
    "duration": 14,
    "start_time": "2023-01-21T11:29:38.929Z"
   },
   {
    "duration": 7,
    "start_time": "2023-01-21T11:29:39.576Z"
   },
   {
    "duration": 12,
    "start_time": "2023-01-21T11:29:48.721Z"
   },
   {
    "duration": 7,
    "start_time": "2023-01-21T11:29:49.249Z"
   },
   {
    "duration": 11,
    "start_time": "2023-01-21T11:29:53.152Z"
   },
   {
    "duration": 8,
    "start_time": "2023-01-21T11:29:53.648Z"
   },
   {
    "duration": 12,
    "start_time": "2023-01-21T11:29:57.349Z"
   },
   {
    "duration": 8,
    "start_time": "2023-01-21T11:29:57.800Z"
   },
   {
    "duration": 25,
    "start_time": "2023-01-21T11:30:01.425Z"
   },
   {
    "duration": 8,
    "start_time": "2023-01-21T11:30:01.920Z"
   },
   {
    "duration": 13,
    "start_time": "2023-01-21T11:30:06.993Z"
   },
   {
    "duration": 9,
    "start_time": "2023-01-21T11:30:07.561Z"
   },
   {
    "duration": 275,
    "start_time": "2023-01-21T11:30:58.263Z"
   },
   {
    "duration": 9,
    "start_time": "2023-01-21T11:30:59.152Z"
   },
   {
    "duration": 117,
    "start_time": "2023-01-21T11:31:31.561Z"
   },
   {
    "duration": 10,
    "start_time": "2023-01-21T11:31:32.713Z"
   },
   {
    "duration": 325197,
    "start_time": "2023-01-21T11:32:57.549Z"
   },
   {
    "duration": 95,
    "start_time": "2023-01-21T11:46:08.128Z"
   },
   {
    "duration": 6723,
    "start_time": "2023-01-21T11:46:13.832Z"
   },
   {
    "duration": 14,
    "start_time": "2023-01-21T11:46:33.656Z"
   },
   {
    "duration": 19,
    "start_time": "2023-01-21T11:47:02.935Z"
   },
   {
    "duration": 249,
    "start_time": "2023-01-21T11:55:09.035Z"
   },
   {
    "duration": 6,
    "start_time": "2023-01-21T11:55:49.115Z"
   },
   {
    "duration": 5,
    "start_time": "2023-01-21T11:55:53.004Z"
   },
   {
    "duration": 96,
    "start_time": "2023-01-21T11:58:35.171Z"
   },
   {
    "duration": 109,
    "start_time": "2023-01-21T11:59:41.362Z"
   },
   {
    "duration": 1422,
    "start_time": "2023-01-21T12:10:32.950Z"
   },
   {
    "duration": 60,
    "start_time": "2023-01-21T12:10:34.374Z"
   },
   {
    "duration": 18,
    "start_time": "2023-01-21T12:10:34.435Z"
   },
   {
    "duration": 25,
    "start_time": "2023-01-21T12:10:34.455Z"
   },
   {
    "duration": 32,
    "start_time": "2023-01-21T12:10:34.483Z"
   },
   {
    "duration": 23,
    "start_time": "2023-01-21T12:10:34.518Z"
   },
   {
    "duration": 23,
    "start_time": "2023-01-21T12:10:34.543Z"
   },
   {
    "duration": 28,
    "start_time": "2023-01-21T12:10:34.568Z"
   },
   {
    "duration": 53,
    "start_time": "2023-01-21T12:10:34.599Z"
   },
   {
    "duration": 5,
    "start_time": "2023-01-21T12:10:34.654Z"
   },
   {
    "duration": 8,
    "start_time": "2023-01-21T12:10:34.661Z"
   },
   {
    "duration": 14,
    "start_time": "2023-01-21T12:10:34.670Z"
   },
   {
    "duration": 9,
    "start_time": "2023-01-21T12:10:34.686Z"
   },
   {
    "duration": 159,
    "start_time": "2023-01-21T12:10:34.699Z"
   },
   {
    "duration": 197,
    "start_time": "2023-01-21T12:10:34.864Z"
   },
   {
    "duration": 362,
    "start_time": "2023-01-21T12:10:35.064Z"
   },
   {
    "duration": 16,
    "start_time": "2023-01-21T12:10:35.428Z"
   },
   {
    "duration": 43361,
    "start_time": "2023-01-21T12:10:35.445Z"
   },
   {
    "duration": 34,
    "start_time": "2023-01-21T12:11:18.808Z"
   },
   {
    "duration": 388,
    "start_time": "2023-01-21T12:11:18.847Z"
   },
   {
    "duration": 21,
    "start_time": "2023-01-21T12:11:19.243Z"
   },
   {
    "duration": 192,
    "start_time": "2023-01-21T12:11:19.265Z"
   },
   {
    "duration": 11,
    "start_time": "2023-01-21T12:11:19.459Z"
   },
   {
    "duration": 6,
    "start_time": "2023-01-21T12:11:19.472Z"
   },
   {
    "duration": 471,
    "start_time": "2023-01-21T12:11:19.480Z"
   },
   {
    "duration": 89,
    "start_time": "2023-01-21T12:11:19.953Z"
   },
   {
    "duration": 326,
    "start_time": "2023-01-21T12:11:20.044Z"
   },
   {
    "duration": 10,
    "start_time": "2023-01-21T12:11:20.373Z"
   },
   {
    "duration": 12881,
    "start_time": "2023-01-21T12:11:20.384Z"
   },
   {
    "duration": 13,
    "start_time": "2023-01-21T12:11:33.267Z"
   },
   {
    "duration": 33,
    "start_time": "2023-01-21T12:11:33.282Z"
   },
   {
    "duration": 44,
    "start_time": "2023-01-21T12:11:33.317Z"
   },
   {
    "duration": 286,
    "start_time": "2023-01-21T12:11:33.363Z"
   },
   {
    "duration": 124,
    "start_time": "2023-01-21T12:11:33.652Z"
   },
   {
    "duration": 267,
    "start_time": "2023-01-21T12:11:33.778Z"
   },
   {
    "duration": 8,
    "start_time": "2023-01-21T12:11:34.047Z"
   },
   {
    "duration": 6768,
    "start_time": "2023-01-21T12:11:34.056Z"
   },
   {
    "duration": 15,
    "start_time": "2023-01-21T12:11:40.826Z"
   },
   {
    "duration": 19,
    "start_time": "2023-01-21T12:11:40.843Z"
   },
   {
    "duration": 104,
    "start_time": "2023-01-21T12:11:40.864Z"
   },
   {
    "duration": 1201,
    "start_time": "2023-01-23T07:25:14.634Z"
   },
   {
    "duration": 190,
    "start_time": "2023-01-23T07:25:18.189Z"
   },
   {
    "duration": 14,
    "start_time": "2023-01-23T07:25:21.276Z"
   },
   {
    "duration": 6,
    "start_time": "2023-01-23T07:25:23.556Z"
   },
   {
    "duration": 9,
    "start_time": "2023-01-23T07:25:25.884Z"
   },
   {
    "duration": 13,
    "start_time": "2023-01-23T07:25:29.539Z"
   },
   {
    "duration": 15,
    "start_time": "2023-01-23T07:25:33.844Z"
   },
   {
    "duration": 101,
    "start_time": "2023-01-23T07:25:38.036Z"
   },
   {
    "duration": 5,
    "start_time": "2023-01-23T07:25:50.016Z"
   },
   {
    "duration": 19,
    "start_time": "2023-01-23T07:25:54.796Z"
   },
   {
    "duration": 10,
    "start_time": "2023-01-23T07:26:16.500Z"
   },
   {
    "duration": 5,
    "start_time": "2023-01-23T07:26:18.475Z"
   },
   {
    "duration": 28,
    "start_time": "2023-01-23T07:26:22.876Z"
   },
   {
    "duration": 33,
    "start_time": "2023-01-23T07:26:54.228Z"
   },
   {
    "duration": 5,
    "start_time": "2023-01-23T07:27:09.557Z"
   },
   {
    "duration": 115,
    "start_time": "2023-01-23T07:27:20.867Z"
   },
   {
    "duration": 50,
    "start_time": "2023-01-23T07:43:40.367Z"
   },
   {
    "duration": 23535,
    "start_time": "2023-01-23T07:43:49.556Z"
   },
   {
    "duration": 12273,
    "start_time": "2023-01-23T07:45:13.810Z"
   },
   {
    "duration": 11609,
    "start_time": "2023-01-23T07:46:50.082Z"
   },
   {
    "duration": 54,
    "start_time": "2023-01-23T07:49:46.937Z"
   },
   {
    "duration": 81,
    "start_time": "2023-01-23T07:49:53.832Z"
   },
   {
    "duration": 102,
    "start_time": "2023-01-23T07:50:39.280Z"
   },
   {
    "duration": 91,
    "start_time": "2023-01-23T07:52:40.791Z"
   },
   {
    "duration": 93,
    "start_time": "2023-01-23T07:53:07.663Z"
   },
   {
    "duration": 196,
    "start_time": "2023-01-23T07:55:02.806Z"
   },
   {
    "duration": 111,
    "start_time": "2023-01-23T07:55:11.830Z"
   },
   {
    "duration": 100,
    "start_time": "2023-01-23T07:58:48.733Z"
   },
   {
    "duration": 107,
    "start_time": "2023-01-23T07:59:42.117Z"
   },
   {
    "duration": 3,
    "start_time": "2023-01-23T08:03:54.498Z"
   },
   {
    "duration": 135395,
    "start_time": "2023-01-23T08:04:39.194Z"
   },
   {
    "duration": 145069,
    "start_time": "2023-01-23T08:10:17.312Z"
   },
   {
    "duration": 10,
    "start_time": "2023-01-23T08:13:03.489Z"
   },
   {
    "duration": 385,
    "start_time": "2023-01-23T08:21:27.577Z"
   },
   {
    "duration": 151,
    "start_time": "2023-01-23T08:21:40.171Z"
   },
   {
    "duration": 8,
    "start_time": "2023-01-23T08:21:43.235Z"
   },
   {
    "duration": 482939,
    "start_time": "2023-01-23T08:25:06.654Z"
   },
   {
    "duration": 49923,
    "start_time": "2023-01-23T08:33:45.353Z"
   },
   {
    "duration": 1027131,
    "start_time": "2023-01-23T08:34:44.966Z"
   },
   {
    "duration": 317786,
    "start_time": "2023-01-23T08:52:04.891Z"
   },
   {
    "duration": 47728,
    "start_time": "2023-01-23T08:59:20.336Z"
   },
   {
    "duration": 22,
    "start_time": "2023-01-23T09:00:19.023Z"
   },
   {
    "duration": 109,
    "start_time": "2023-01-23T09:06:59.773Z"
   },
   {
    "duration": 6303,
    "start_time": "2023-01-23T09:07:10.485Z"
   },
   {
    "duration": 8,
    "start_time": "2023-01-23T09:07:22.748Z"
   },
   {
    "duration": 6,
    "start_time": "2023-01-23T09:08:19.076Z"
   },
   {
    "duration": 1004,
    "start_time": "2023-01-23T09:10:39.235Z"
   },
   {
    "duration": 170,
    "start_time": "2023-01-23T09:11:22.106Z"
   },
   {
    "duration": 9,
    "start_time": "2023-01-23T09:11:23.410Z"
   },
   {
    "duration": 492260,
    "start_time": "2023-01-23T09:13:08.219Z"
   },
   {
    "duration": 194589,
    "start_time": "2023-01-23T09:23:15.650Z"
   },
   {
    "duration": 39,
    "start_time": "2023-01-23T09:27:07.502Z"
   },
   {
    "duration": 6,
    "start_time": "2023-01-23T09:27:10.397Z"
   },
   {
    "duration": 10,
    "start_time": "2023-01-23T09:29:31.110Z"
   },
   {
    "duration": 6,
    "start_time": "2023-01-23T09:29:32.037Z"
   },
   {
    "duration": 8532,
    "start_time": "2023-01-23T09:30:55.056Z"
   },
   {
    "duration": 13,
    "start_time": "2023-01-23T09:31:07.364Z"
   },
   {
    "duration": 518,
    "start_time": "2023-01-23T09:31:37.677Z"
   },
   {
    "duration": 536,
    "start_time": "2023-01-23T09:31:45.275Z"
   },
   {
    "duration": 7,
    "start_time": "2023-01-23T09:31:46.883Z"
   },
   {
    "duration": 682453,
    "start_time": "2023-01-23T09:31:58.428Z"
   },
   {
    "duration": 6208,
    "start_time": "2023-01-23T09:49:42.485Z"
   },
   {
    "duration": 12,
    "start_time": "2023-01-23T09:50:01.188Z"
   },
   {
    "duration": 11,
    "start_time": "2023-01-23T09:50:20.071Z"
   },
   {
    "duration": 6,
    "start_time": "2023-01-23T09:50:21.124Z"
   },
   {
    "duration": 5279,
    "start_time": "2023-01-23T09:51:23.708Z"
   },
   {
    "duration": 4624,
    "start_time": "2023-01-23T09:51:43.461Z"
   },
   {
    "duration": 8,
    "start_time": "2023-01-23T09:51:48.821Z"
   },
   {
    "duration": 216,
    "start_time": "2023-01-23T09:51:59.539Z"
   },
   {
    "duration": 127,
    "start_time": "2023-01-23T09:52:06.860Z"
   },
   {
    "duration": 8,
    "start_time": "2023-01-23T09:52:09.875Z"
   },
   {
    "duration": 310120,
    "start_time": "2023-01-23T09:52:22.324Z"
   },
   {
    "duration": 12,
    "start_time": "2023-01-23T10:02:45.662Z"
   },
   {
    "duration": 6410,
    "start_time": "2023-01-23T10:03:01.935Z"
   },
   {
    "duration": 15,
    "start_time": "2023-01-23T10:03:14.887Z"
   },
   {
    "duration": 9,
    "start_time": "2023-01-23T10:11:18.292Z"
   },
   {
    "duration": 12,
    "start_time": "2023-01-23T10:13:24.419Z"
   },
   {
    "duration": 7,
    "start_time": "2023-01-23T10:13:53.491Z"
   },
   {
    "duration": 106,
    "start_time": "2023-01-23T10:15:35.426Z"
   },
   {
    "duration": 6,
    "start_time": "2023-01-23T10:16:10.033Z"
   },
   {
    "duration": 11,
    "start_time": "2023-01-23T10:16:10.769Z"
   },
   {
    "duration": 5,
    "start_time": "2023-01-23T10:16:11.329Z"
   },
   {
    "duration": 1241,
    "start_time": "2023-01-23T10:17:55.086Z"
   },
   {
    "duration": 57,
    "start_time": "2023-01-23T10:17:56.329Z"
   },
   {
    "duration": 21,
    "start_time": "2023-01-23T10:17:56.388Z"
   },
   {
    "duration": 8,
    "start_time": "2023-01-23T10:17:56.412Z"
   },
   {
    "duration": 16,
    "start_time": "2023-01-23T10:17:56.421Z"
   },
   {
    "duration": 14,
    "start_time": "2023-01-23T10:17:56.439Z"
   },
   {
    "duration": 39,
    "start_time": "2023-01-23T10:17:56.455Z"
   },
   {
    "duration": 31,
    "start_time": "2023-01-23T10:17:56.496Z"
   },
   {
    "duration": 52,
    "start_time": "2023-01-23T10:17:56.529Z"
   },
   {
    "duration": 11,
    "start_time": "2023-01-23T10:17:56.584Z"
   },
   {
    "duration": 18,
    "start_time": "2023-01-23T10:17:56.597Z"
   },
   {
    "duration": 34,
    "start_time": "2023-01-23T10:17:56.617Z"
   },
   {
    "duration": 6,
    "start_time": "2023-01-23T10:17:56.653Z"
   },
   {
    "duration": 462220,
    "start_time": "2023-01-23T10:17:56.661Z"
   },
   {
    "duration": 9,
    "start_time": "2023-01-23T10:25:38.884Z"
   },
   {
    "duration": 256,
    "start_time": "2023-01-23T10:25:38.982Z"
   },
   {
    "duration": 8,
    "start_time": "2023-01-23T10:25:39.240Z"
   },
   {
    "duration": 49670,
    "start_time": "2023-01-23T10:25:39.250Z"
   },
   {
    "duration": 22,
    "start_time": "2023-01-23T10:26:28.922Z"
   },
   {
    "duration": 20442,
    "start_time": "2023-01-23T10:26:28.946Z"
   },
   {
    "duration": 94,
    "start_time": "2023-01-23T10:26:49.391Z"
   },
   {
    "duration": 274,
    "start_time": "2023-01-23T10:26:49.488Z"
   },
   {
    "duration": 7,
    "start_time": "2023-01-23T10:26:49.764Z"
   },
   {
    "duration": 204851,
    "start_time": "2023-01-23T10:26:49.782Z"
   },
   {
    "duration": 53,
    "start_time": "2023-01-23T10:30:14.635Z"
   },
   {
    "duration": 7,
    "start_time": "2023-01-23T10:30:14.690Z"
   },
   {
    "duration": 19,
    "start_time": "2023-01-23T10:30:14.698Z"
   },
   {
    "duration": 11,
    "start_time": "2023-01-23T10:30:14.720Z"
   },
   {
    "duration": 19156,
    "start_time": "2023-01-23T10:30:14.733Z"
   },
   {
    "duration": 106,
    "start_time": "2023-01-23T10:30:33.894Z"
   },
   {
    "duration": 680,
    "start_time": "2023-01-23T10:30:34.002Z"
   },
   {
    "duration": 9,
    "start_time": "2023-01-23T10:30:34.685Z"
   },
   {
    "duration": 6525,
    "start_time": "2023-01-23T10:30:34.697Z"
   },
   {
    "duration": 13,
    "start_time": "2023-01-23T10:30:41.223Z"
   },
   {
    "duration": 12,
    "start_time": "2023-01-23T10:30:41.238Z"
   },
   {
    "duration": 13,
    "start_time": "2023-01-23T10:30:41.252Z"
   },
   {
    "duration": 17405,
    "start_time": "2023-01-23T10:30:41.282Z"
   },
   {
    "duration": 95,
    "start_time": "2023-01-23T10:30:58.690Z"
   },
   {
    "duration": 186,
    "start_time": "2023-01-23T10:30:58.787Z"
   },
   {
    "duration": 13,
    "start_time": "2023-01-23T10:30:58.974Z"
   },
   {
    "duration": 6518,
    "start_time": "2023-01-23T10:30:58.991Z"
   },
   {
    "duration": 13,
    "start_time": "2023-01-23T10:31:05.511Z"
   },
   {
    "duration": 6,
    "start_time": "2023-01-23T10:31:05.526Z"
   },
   {
    "duration": 35,
    "start_time": "2023-01-23T10:31:05.533Z"
   },
   {
    "duration": 11,
    "start_time": "2023-01-23T10:31:05.570Z"
   },
   {
    "duration": 112,
    "start_time": "2023-01-23T10:31:05.583Z"
   },
   {
    "duration": 21,
    "start_time": "2023-01-23T11:09:22.609Z"
   },
   {
    "duration": 122,
    "start_time": "2023-01-23T11:10:18.356Z"
   },
   {
    "duration": 6,
    "start_time": "2023-01-23T11:10:22.217Z"
   },
   {
    "duration": 144,
    "start_time": "2023-01-23T11:10:23.777Z"
   },
   {
    "duration": 6525,
    "start_time": "2023-01-23T11:10:59.667Z"
   },
   {
    "duration": 12,
    "start_time": "2023-01-23T11:11:12.657Z"
   },
   {
    "duration": 7,
    "start_time": "2023-01-23T11:15:39.222Z"
   },
   {
    "duration": 5,
    "start_time": "2023-01-23T11:16:20.030Z"
   },
   {
    "duration": 5,
    "start_time": "2023-01-23T11:16:39.247Z"
   },
   {
    "duration": 102,
    "start_time": "2023-01-23T11:16:40.526Z"
   },
   {
    "duration": 1156,
    "start_time": "2023-01-23T11:20:21.956Z"
   },
   {
    "duration": 58,
    "start_time": "2023-01-23T11:20:23.113Z"
   },
   {
    "duration": 13,
    "start_time": "2023-01-23T11:20:23.173Z"
   },
   {
    "duration": 7,
    "start_time": "2023-01-23T11:20:23.188Z"
   },
   {
    "duration": 15,
    "start_time": "2023-01-23T11:20:23.197Z"
   },
   {
    "duration": 22,
    "start_time": "2023-01-23T11:20:23.214Z"
   },
   {
    "duration": 16,
    "start_time": "2023-01-23T11:20:23.238Z"
   },
   {
    "duration": 18,
    "start_time": "2023-01-23T11:20:23.255Z"
   },
   {
    "duration": 43,
    "start_time": "2023-01-23T11:20:23.274Z"
   },
   {
    "duration": 9,
    "start_time": "2023-01-23T11:20:23.321Z"
   },
   {
    "duration": 6,
    "start_time": "2023-01-23T11:20:23.332Z"
   },
   {
    "duration": 46,
    "start_time": "2023-01-23T11:20:23.340Z"
   },
   {
    "duration": 6,
    "start_time": "2023-01-23T11:20:23.388Z"
   },
   {
    "duration": 211895,
    "start_time": "2023-01-23T11:20:23.397Z"
   },
   {
    "duration": 100,
    "start_time": "2023-01-23T11:23:55.382Z"
   },
   {
    "duration": 257,
    "start_time": "2023-01-23T11:23:55.484Z"
   },
   {
    "duration": 8,
    "start_time": "2023-01-23T11:23:55.742Z"
   },
   {
    "duration": 48948,
    "start_time": "2023-01-23T11:23:55.752Z"
   },
   {
    "duration": 23,
    "start_time": "2023-01-23T11:24:44.702Z"
   },
   {
    "duration": 16058,
    "start_time": "2023-01-23T11:24:44.726Z"
   },
   {
    "duration": 100,
    "start_time": "2023-01-23T11:25:00.787Z"
   },
   {
    "duration": 275,
    "start_time": "2023-01-23T11:25:00.891Z"
   },
   {
    "duration": 14,
    "start_time": "2023-01-23T11:25:01.167Z"
   },
   {
    "duration": 201952,
    "start_time": "2023-01-23T11:25:01.183Z"
   },
   {
    "duration": 44,
    "start_time": "2023-01-23T11:28:23.137Z"
   },
   {
    "duration": 5,
    "start_time": "2023-01-23T11:28:23.183Z"
   },
   {
    "duration": 11,
    "start_time": "2023-01-23T11:28:23.189Z"
   },
   {
    "duration": 5,
    "start_time": "2023-01-23T11:28:23.203Z"
   },
   {
    "duration": 8478,
    "start_time": "2023-01-23T11:28:23.210Z"
   },
   {
    "duration": 96,
    "start_time": "2023-01-23T11:28:31.690Z"
   },
   {
    "duration": 676,
    "start_time": "2023-01-23T11:28:31.788Z"
   },
   {
    "duration": 7,
    "start_time": "2023-01-23T11:28:32.465Z"
   },
   {
    "duration": 6100,
    "start_time": "2023-01-23T11:28:32.474Z"
   },
   {
    "duration": 14,
    "start_time": "2023-01-23T11:28:38.575Z"
   },
   {
    "duration": 10,
    "start_time": "2023-01-23T11:28:38.591Z"
   },
   {
    "duration": 10,
    "start_time": "2023-01-23T11:28:38.602Z"
   },
   {
    "duration": 6070,
    "start_time": "2023-01-23T11:28:38.613Z"
   },
   {
    "duration": 98,
    "start_time": "2023-01-23T11:28:44.685Z"
   },
   {
    "duration": 196,
    "start_time": "2023-01-23T11:28:44.787Z"
   },
   {
    "duration": 8,
    "start_time": "2023-01-23T11:28:44.985Z"
   },
   {
    "duration": 6307,
    "start_time": "2023-01-23T11:28:44.995Z"
   },
   {
    "duration": 12,
    "start_time": "2023-01-23T11:28:51.303Z"
   },
   {
    "duration": 6,
    "start_time": "2023-01-23T11:28:51.317Z"
   },
   {
    "duration": 18,
    "start_time": "2023-01-23T11:28:51.324Z"
   },
   {
    "duration": 6,
    "start_time": "2023-01-23T11:28:51.344Z"
   },
   {
    "duration": 125,
    "start_time": "2023-01-23T11:28:51.351Z"
   },
   {
    "duration": 5,
    "start_time": "2023-01-23T11:44:21.226Z"
   },
   {
    "duration": 6,
    "start_time": "2023-01-23T11:48:55.181Z"
   },
   {
    "duration": 633,
    "start_time": "2023-01-23T11:48:56.436Z"
   },
   {
    "duration": 4,
    "start_time": "2023-01-23T12:39:27.962Z"
   },
   {
    "duration": 1181,
    "start_time": "2023-01-23T12:42:15.626Z"
   },
   {
    "duration": 78,
    "start_time": "2023-01-23T12:42:16.809Z"
   },
   {
    "duration": 18,
    "start_time": "2023-01-23T12:42:16.889Z"
   },
   {
    "duration": 6,
    "start_time": "2023-01-23T12:42:16.909Z"
   },
   {
    "duration": 13,
    "start_time": "2023-01-23T12:42:16.918Z"
   },
   {
    "duration": 16,
    "start_time": "2023-01-23T12:42:16.933Z"
   },
   {
    "duration": 20,
    "start_time": "2023-01-23T12:42:16.982Z"
   },
   {
    "duration": 8,
    "start_time": "2023-01-23T12:42:17.004Z"
   },
   {
    "duration": 28,
    "start_time": "2023-01-23T12:42:17.014Z"
   },
   {
    "duration": 40,
    "start_time": "2023-01-23T12:42:17.044Z"
   },
   {
    "duration": 6,
    "start_time": "2023-01-23T12:42:17.085Z"
   },
   {
    "duration": 29,
    "start_time": "2023-01-23T12:42:17.093Z"
   },
   {
    "duration": 5,
    "start_time": "2023-01-23T12:42:17.124Z"
   },
   {
    "duration": 157055,
    "start_time": "2023-01-23T12:42:17.132Z"
   },
   {
    "duration": 101,
    "start_time": "2023-01-23T12:44:54.281Z"
   },
   {
    "duration": 249,
    "start_time": "2023-01-23T12:44:54.386Z"
   },
   {
    "duration": 8,
    "start_time": "2023-01-23T12:44:54.636Z"
   },
   {
    "duration": 47201,
    "start_time": "2023-01-23T12:44:54.646Z"
   },
   {
    "duration": 33,
    "start_time": "2023-01-23T12:45:41.849Z"
   },
   {
    "duration": 12305,
    "start_time": "2023-01-23T12:45:41.884Z"
   },
   {
    "duration": 97,
    "start_time": "2023-01-23T12:45:54.191Z"
   },
   {
    "duration": 369,
    "start_time": "2023-01-23T12:45:54.290Z"
   },
   {
    "duration": 7,
    "start_time": "2023-01-23T12:45:54.661Z"
   },
   {
    "duration": 197285,
    "start_time": "2023-01-23T12:45:54.670Z"
   },
   {
    "duration": 54,
    "start_time": "2023-01-23T12:49:11.956Z"
   },
   {
    "duration": 5,
    "start_time": "2023-01-23T12:49:12.012Z"
   },
   {
    "duration": 11,
    "start_time": "2023-01-23T12:49:12.019Z"
   },
   {
    "duration": 7,
    "start_time": "2023-01-23T12:49:12.031Z"
   },
   {
    "duration": 8142,
    "start_time": "2023-01-23T12:49:12.040Z"
   },
   {
    "duration": 101,
    "start_time": "2023-01-23T12:49:20.184Z"
   },
   {
    "duration": 575,
    "start_time": "2023-01-23T12:49:20.380Z"
   },
   {
    "duration": 8,
    "start_time": "2023-01-23T12:49:20.956Z"
   },
   {
    "duration": 6547,
    "start_time": "2023-01-23T12:49:20.966Z"
   },
   {
    "duration": 11,
    "start_time": "2023-01-23T12:49:27.514Z"
   },
   {
    "duration": 21,
    "start_time": "2023-01-23T12:49:27.527Z"
   },
   {
    "duration": 8,
    "start_time": "2023-01-23T12:49:27.550Z"
   },
   {
    "duration": 4728,
    "start_time": "2023-01-23T12:49:27.560Z"
   },
   {
    "duration": 96,
    "start_time": "2023-01-23T12:49:32.292Z"
   },
   {
    "duration": 271,
    "start_time": "2023-01-23T12:49:32.390Z"
   },
   {
    "duration": 18,
    "start_time": "2023-01-23T12:49:32.663Z"
   },
   {
    "duration": 6347,
    "start_time": "2023-01-23T12:49:32.685Z"
   },
   {
    "duration": 12,
    "start_time": "2023-01-23T12:49:39.035Z"
   },
   {
    "duration": 6,
    "start_time": "2023-01-23T12:49:39.049Z"
   },
   {
    "duration": 33,
    "start_time": "2023-01-23T12:49:39.057Z"
   },
   {
    "duration": 5,
    "start_time": "2023-01-23T12:49:39.092Z"
   },
   {
    "duration": 118,
    "start_time": "2023-01-23T12:49:39.099Z"
   },
   {
    "duration": 5,
    "start_time": "2023-01-23T12:49:39.219Z"
   },
   {
    "duration": 635,
    "start_time": "2023-01-23T12:49:39.226Z"
   },
   {
    "duration": 85,
    "start_time": "2023-01-23T12:56:20.381Z"
   }
  ],
  "kernelspec": {
   "display_name": "Python 3 (ipykernel)",
   "language": "python",
   "name": "python3"
  },
  "language_info": {
   "codemirror_mode": {
    "name": "ipython",
    "version": 3
   },
   "file_extension": ".py",
   "mimetype": "text/x-python",
   "name": "python",
   "nbconvert_exporter": "python",
   "pygments_lexer": "ipython3",
   "version": "3.9.13"
  },
  "toc": {
   "base_numbering": 1,
   "nav_menu": {},
   "number_sections": true,
   "sideBar": true,
   "skip_h1_title": true,
   "title_cell": "Содержание",
   "title_sidebar": "Contents",
   "toc_cell": true,
   "toc_position": {},
   "toc_section_display": true,
   "toc_window_display": true
  }
 },
 "nbformat": 4,
 "nbformat_minor": 2
}
